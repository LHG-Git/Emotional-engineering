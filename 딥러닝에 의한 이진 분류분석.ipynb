{
  "nbformat": 4,
  "nbformat_minor": 0,
  "metadata": {
    "colab": {
      "name": "이희구.ipynb",
      "provenance": [],
      "collapsed_sections": []
    },
    "kernelspec": {
      "display_name": "Python 3",
      "name": "python3"
    }
  },
  "cells": [
    {
      "cell_type": "code",
      "metadata": {
        "id": "0trJmd6DjqBZ"
      },
      "source": [
        "# 필요한 라이브러리 import \n",
        "import tensorflow as tf\n",
        "from tensorflow import keras\n",
        "import numpy as np\n",
        "import pandas as pd\n",
        "import matplotlib.pyplot as plt\n",
        "from sklearn.model_selection import train_test_split"
      ],
      "execution_count": 1,
      "outputs": []
    },
    {
      "cell_type": "code",
      "metadata": {
        "id": "xVRdxYReYeQj",
        "colab": {
          "base_uri": "https://localhost:8080/"
        },
        "outputId": "ce3cf61f-139a-4782-9c9d-abd83afc9caf"
      },
      "source": [
        "# google drive mount\n",
        "from google.colab import drive\n",
        "drive.mount('/content/drive')"
      ],
      "execution_count": 2,
      "outputs": [
        {
          "output_type": "stream",
          "name": "stdout",
          "text": [
            "Mounted at /content/drive\n"
          ]
        }
      ]
    },
    {
      "cell_type": "code",
      "metadata": {
        "id": "byCIiLJBbFHh",
        "colab": {
          "base_uri": "https://localhost:8080/",
          "height": 423
        },
        "outputId": "e8f4e193-c605-4db8-9b96-1aa18c752f0e"
      },
      "source": [
        "# data 읽어오기 , 경로복사 붙여넣기\n",
        "data = '/content/drive/MyDrive/Data/result.txt'\n",
        "df = pd.read_csv(data, sep=',' )\n",
        "df.columns = [\"y\", 'x1', 'x2']\n",
        "df"
      ],
      "execution_count": 3,
      "outputs": [
        {
          "output_type": "execute_result",
          "data": {
            "text/html": [
              "<div>\n",
              "<style scoped>\n",
              "    .dataframe tbody tr th:only-of-type {\n",
              "        vertical-align: middle;\n",
              "    }\n",
              "\n",
              "    .dataframe tbody tr th {\n",
              "        vertical-align: top;\n",
              "    }\n",
              "\n",
              "    .dataframe thead th {\n",
              "        text-align: right;\n",
              "    }\n",
              "</style>\n",
              "<table border=\"1\" class=\"dataframe\">\n",
              "  <thead>\n",
              "    <tr style=\"text-align: right;\">\n",
              "      <th></th>\n",
              "      <th>y</th>\n",
              "      <th>x1</th>\n",
              "      <th>x2</th>\n",
              "    </tr>\n",
              "  </thead>\n",
              "  <tbody>\n",
              "    <tr>\n",
              "      <th>0</th>\n",
              "      <td>0</td>\n",
              "      <td>380</td>\n",
              "      <td>3.61</td>\n",
              "    </tr>\n",
              "    <tr>\n",
              "      <th>1</th>\n",
              "      <td>1</td>\n",
              "      <td>660</td>\n",
              "      <td>3.67</td>\n",
              "    </tr>\n",
              "    <tr>\n",
              "      <th>2</th>\n",
              "      <td>1</td>\n",
              "      <td>800</td>\n",
              "      <td>4.00</td>\n",
              "    </tr>\n",
              "    <tr>\n",
              "      <th>3</th>\n",
              "      <td>1</td>\n",
              "      <td>640</td>\n",
              "      <td>3.19</td>\n",
              "    </tr>\n",
              "    <tr>\n",
              "      <th>4</th>\n",
              "      <td>0</td>\n",
              "      <td>520</td>\n",
              "      <td>2.93</td>\n",
              "    </tr>\n",
              "    <tr>\n",
              "      <th>...</th>\n",
              "      <td>...</td>\n",
              "      <td>...</td>\n",
              "      <td>...</td>\n",
              "    </tr>\n",
              "    <tr>\n",
              "      <th>395</th>\n",
              "      <td>1</td>\n",
              "      <td>620</td>\n",
              "      <td>4.00</td>\n",
              "    </tr>\n",
              "    <tr>\n",
              "      <th>396</th>\n",
              "      <td>1</td>\n",
              "      <td>560</td>\n",
              "      <td>3.04</td>\n",
              "    </tr>\n",
              "    <tr>\n",
              "      <th>397</th>\n",
              "      <td>0</td>\n",
              "      <td>460</td>\n",
              "      <td>2.63</td>\n",
              "    </tr>\n",
              "    <tr>\n",
              "      <th>398</th>\n",
              "      <td>1</td>\n",
              "      <td>700</td>\n",
              "      <td>3.65</td>\n",
              "    </tr>\n",
              "    <tr>\n",
              "      <th>399</th>\n",
              "      <td>1</td>\n",
              "      <td>600</td>\n",
              "      <td>3.89</td>\n",
              "    </tr>\n",
              "  </tbody>\n",
              "</table>\n",
              "<p>400 rows × 3 columns</p>\n",
              "</div>"
            ],
            "text/plain": [
              "     y   x1    x2\n",
              "0    0  380  3.61\n",
              "1    1  660  3.67\n",
              "2    1  800  4.00\n",
              "3    1  640  3.19\n",
              "4    0  520  2.93\n",
              "..  ..  ...   ...\n",
              "395  1  620  4.00\n",
              "396  1  560  3.04\n",
              "397  0  460  2.63\n",
              "398  1  700  3.65\n",
              "399  1  600  3.89\n",
              "\n",
              "[400 rows x 3 columns]"
            ]
          },
          "metadata": {},
          "execution_count": 3
        }
      ]
    },
    {
      "cell_type": "code",
      "metadata": {
        "colab": {
          "base_uri": "https://localhost:8080/"
        },
        "id": "1XXAQ7txDHQt",
        "outputId": "467879a9-f003-4ea1-b440-2c3b3366dec6"
      },
      "source": [
        "df['y'].value_counts()"
      ],
      "execution_count": 4,
      "outputs": [
        {
          "output_type": "execute_result",
          "data": {
            "text/plain": [
              "1    287\n",
              "0    113\n",
              "Name: y, dtype: int64"
            ]
          },
          "metadata": {},
          "execution_count": 4
        }
      ]
    },
    {
      "cell_type": "code",
      "metadata": {
        "colab": {
          "base_uri": "https://localhost:8080/",
          "height": 264
        },
        "id": "5xeDY8vqVoX2",
        "outputId": "94c68817-2058-4ba7-9a59-3c7f1b585f5a"
      },
      "source": [
        "fig, ax = plt.subplots()\n",
        "colors = {0:'red', 1:'blue'}\n",
        "ax.scatter(df['x1'], df['x2'], c=df['y'].map(colors))\n",
        "plt.show()"
      ],
      "execution_count": 5,
      "outputs": [
        {
          "output_type": "display_data",
          "data": {
            "image/png": "[encoded data removed]",
            "text/plain": [
              "<Figure size 432x288 with 1 Axes>"
            ]
          },
          "metadata": {
            "needs_background": "light"
          }
        }
      ]
    },
    {
      "cell_type": "code",
      "metadata": {
        "colab": {
          "base_uri": "https://localhost:8080/"
        },
        "id": "WFU54MG9hnRo",
        "outputId": "d287ef35-d966-4fca-d7d0-725370179654"
      },
      "source": [
        "n = 400\n",
        "ts = 80\n",
        "vs =80\n",
        "print(n,ts,vs)"
      ],
      "execution_count": 6,
      "outputs": [
        {
          "output_type": "stream",
          "name": "stdout",
          "text": [
            "400 80 80\n"
          ]
        }
      ]
    },
    {
      "cell_type": "code",
      "metadata": {
        "colab": {
          "base_uri": "https://localhost:8080/"
        },
        "id": "nzoGCTvyhh1g",
        "outputId": "10ebacfd-6d15-4cad-8a5f-51efed8af730"
      },
      "source": [
        "# 데이터 분리 (데이터 400개를 80개씩 분리함.)\n",
        "train_df, test_df = train_test_split(df, test_size = ts, random_state = 123)\n",
        "train_df, val_df = train_test_split(train_df, test_size = vs, random_state = 123)\n",
        "print(len(train_df),len(test_df),len(val_df))"
      ],
      "execution_count": 7,
      "outputs": [
        {
          "output_type": "stream",
          "name": "stdout",
          "text": [
            "240 80 80\n"
          ]
        }
      ]
    },
    {
      "cell_type": "code",
      "metadata": {
        "id": "xKD8PCEA0dcA",
        "colab": {
          "base_uri": "https://localhost:8080/",
          "height": 286
        },
        "outputId": "fe3c5380-de56-4dac-cf91-58cdf1c12f18"
      },
      "source": [
        "df['y'].hist()"
      ],
      "execution_count": 8,
      "outputs": [
        {
          "output_type": "execute_result",
          "data": {
            "text/plain": [
              "<matplotlib.axes._subplots.AxesSubplot at 0x7f90a92ac590>"
            ]
          },
          "metadata": {},
          "execution_count": 8
        },
        {
          "output_type": "display_data",
          "data": {
            "image/png": "[encoded data removed]",
            "text/plain": [
              "<Figure size 432x288 with 1 Axes>"
            ]
          },
          "metadata": {
            "needs_background": "light"
          }
        }
      ]
    },
    {
      "cell_type": "code",
      "metadata": {
        "colab": {
          "base_uri": "https://localhost:8080/",
          "height": 283
        },
        "id": "ERU3H1LYifu8",
        "outputId": "80853881-fb8a-4cb6-9e59-7017007d91e6"
      },
      "source": [
        "train_df['y'].hist()"
      ],
      "execution_count": 9,
      "outputs": [
        {
          "output_type": "execute_result",
          "data": {
            "text/plain": [
              "<matplotlib.axes._subplots.AxesSubplot at 0x7f90a922d4d0>"
            ]
          },
          "metadata": {},
          "execution_count": 9
        },
        {
          "output_type": "display_data",
          "data": {
            "image/png": "[encoded data removed]",
            "text/plain": [
              "<Figure size 432x288 with 1 Axes>"
            ]
          },
          "metadata": {
            "needs_background": "light"
          }
        }
      ]
    },
    {
      "cell_type": "code",
      "metadata": {
        "colab": {
          "base_uri": "https://localhost:8080/",
          "height": 112
        },
        "id": "sGh3DzwrimLT",
        "outputId": "9fb66676-767d-4774-d63f-b2dbf43b6151"
      },
      "source": [
        "train_df[:2]"
      ],
      "execution_count": 10,
      "outputs": [
        {
          "output_type": "execute_result",
          "data": {
            "text/html": [
              "<div>\n",
              "<style scoped>\n",
              "    .dataframe tbody tr th:only-of-type {\n",
              "        vertical-align: middle;\n",
              "    }\n",
              "\n",
              "    .dataframe tbody tr th {\n",
              "        vertical-align: top;\n",
              "    }\n",
              "\n",
              "    .dataframe thead th {\n",
              "        text-align: right;\n",
              "    }\n",
              "</style>\n",
              "<table border=\"1\" class=\"dataframe\">\n",
              "  <thead>\n",
              "    <tr style=\"text-align: right;\">\n",
              "      <th></th>\n",
              "      <th>y</th>\n",
              "      <th>x1</th>\n",
              "      <th>x2</th>\n",
              "    </tr>\n",
              "  </thead>\n",
              "  <tbody>\n",
              "    <tr>\n",
              "      <th>354</th>\n",
              "      <td>1</td>\n",
              "      <td>540</td>\n",
              "      <td>3.78</td>\n",
              "    </tr>\n",
              "    <tr>\n",
              "      <th>225</th>\n",
              "      <td>1</td>\n",
              "      <td>720</td>\n",
              "      <td>3.50</td>\n",
              "    </tr>\n",
              "  </tbody>\n",
              "</table>\n",
              "</div>"
            ],
            "text/plain": [
              "     y   x1    x2\n",
              "354  1  540  3.78\n",
              "225  1  720  3.50"
            ]
          },
          "metadata": {},
          "execution_count": 10
        }
      ]
    },
    {
      "cell_type": "code",
      "metadata": {
        "colab": {
          "base_uri": "https://localhost:8080/",
          "height": 423
        },
        "id": "OyiE5v_OuNTt",
        "outputId": "9bf79e94-6e92-443c-f862-08b6d7ee33e3"
      },
      "source": [
        "# 입력데이터로 정리  \n",
        "y_train = train_df.pop('y')\n",
        "x_train = train_df\n",
        "y_test = test_df.pop('y')\n",
        "x_test = test_df\n",
        "y_val = val_df.pop('y')\n",
        "x_val = val_df\n",
        "x_train"
      ],
      "execution_count": 11,
      "outputs": [
        {
          "output_type": "execute_result",
          "data": {
            "text/html": [
              "<div>\n",
              "<style scoped>\n",
              "    .dataframe tbody tr th:only-of-type {\n",
              "        vertical-align: middle;\n",
              "    }\n",
              "\n",
              "    .dataframe tbody tr th {\n",
              "        vertical-align: top;\n",
              "    }\n",
              "\n",
              "    .dataframe thead th {\n",
              "        text-align: right;\n",
              "    }\n",
              "</style>\n",
              "<table border=\"1\" class=\"dataframe\">\n",
              "  <thead>\n",
              "    <tr style=\"text-align: right;\">\n",
              "      <th></th>\n",
              "      <th>x1</th>\n",
              "      <th>x2</th>\n",
              "    </tr>\n",
              "  </thead>\n",
              "  <tbody>\n",
              "    <tr>\n",
              "      <th>354</th>\n",
              "      <td>540</td>\n",
              "      <td>3.78</td>\n",
              "    </tr>\n",
              "    <tr>\n",
              "      <th>225</th>\n",
              "      <td>720</td>\n",
              "      <td>3.50</td>\n",
              "    </tr>\n",
              "    <tr>\n",
              "      <th>294</th>\n",
              "      <td>480</td>\n",
              "      <td>2.55</td>\n",
              "    </tr>\n",
              "    <tr>\n",
              "      <th>12</th>\n",
              "      <td>760</td>\n",
              "      <td>4.00</td>\n",
              "    </tr>\n",
              "    <tr>\n",
              "      <th>156</th>\n",
              "      <td>560</td>\n",
              "      <td>2.52</td>\n",
              "    </tr>\n",
              "    <tr>\n",
              "      <th>...</th>\n",
              "      <td>...</td>\n",
              "      <td>...</td>\n",
              "    </tr>\n",
              "    <tr>\n",
              "      <th>318</th>\n",
              "      <td>480</td>\n",
              "      <td>3.71</td>\n",
              "    </tr>\n",
              "    <tr>\n",
              "      <th>307</th>\n",
              "      <td>580</td>\n",
              "      <td>3.51</td>\n",
              "    </tr>\n",
              "    <tr>\n",
              "      <th>200</th>\n",
              "      <td>800</td>\n",
              "      <td>3.31</td>\n",
              "    </tr>\n",
              "    <tr>\n",
              "      <th>262</th>\n",
              "      <td>520</td>\n",
              "      <td>3.19</td>\n",
              "    </tr>\n",
              "    <tr>\n",
              "      <th>249</th>\n",
              "      <td>640</td>\n",
              "      <td>3.73</td>\n",
              "    </tr>\n",
              "  </tbody>\n",
              "</table>\n",
              "<p>240 rows × 2 columns</p>\n",
              "</div>"
            ],
            "text/plain": [
              "      x1    x2\n",
              "354  540  3.78\n",
              "225  720  3.50\n",
              "294  480  2.55\n",
              "12   760  4.00\n",
              "156  560  2.52\n",
              "..   ...   ...\n",
              "318  480  3.71\n",
              "307  580  3.51\n",
              "200  800  3.31\n",
              "262  520  3.19\n",
              "249  640  3.73\n",
              "\n",
              "[240 rows x 2 columns]"
            ]
          },
          "metadata": {},
          "execution_count": 11
        }
      ]
    },
    {
      "cell_type": "code",
      "metadata": {
        "colab": {
          "base_uri": "https://localhost:8080/"
        },
        "id": "Qs1mzGGYuNa0",
        "outputId": "4387fb1b-2269-478b-cb22-96615f43592a"
      },
      "source": [
        "# input_shape, 입력변수의 개수 확인 \n",
        "train_features = np.array(train_df)\n",
        "train_features.shape[-1]"
      ],
      "execution_count": 12,
      "outputs": [
        {
          "output_type": "execute_result",
          "data": {
            "text/plain": [
              "2"
            ]
          },
          "metadata": {},
          "execution_count": 12
        }
      ]
    },
    {
      "cell_type": "code",
      "metadata": {
        "id": "NfbJPqdguNdK"
      },
      "source": [
        "# 다층의 layer를 쌓아서 모델링, 훈련에 사용할 옵티마이저(optimizer)와 손실 함수를 선택 \n",
        "model = keras.models.Sequential()\n",
        "model.add(keras.layers.Dense(8, activation='relu', input_shape=(train_features.shape[-1],)))\n",
        "model.add(keras.layers.Dense(8, activation='relu'))\n",
        "model.add(keras.layers.Dropout(0.5))\n",
        "model.add(keras.layers.Dense(1, activation='sigmoid')) # sigmoid는 0에서 1의 값을 갖게 하는 것.\n",
        "                                                       # 0.5보다 작으면 0, 0.5보다 크면 1이라 판단함.\n",
        "model.compile(optimizer='adam',\n",
        "              loss='binary_crossentropy', # loss로 0 또는 1 구분.\n",
        "              metrics=['accuracy'])       # 측정은 accuracy로 함."
      ],
      "execution_count": 27,
      "outputs": []
    },
    {
      "cell_type": "code",
      "metadata": {
        "colab": {
          "base_uri": "https://localhost:8080/"
        },
        "id": "7NQ3NVQ2nByW",
        "outputId": "a9abb0eb-5fb0-427f-f284-af285e688643"
      },
      "source": [
        "#모델 요약해서 보기\n",
        "model.summary()"
      ],
      "execution_count": 28,
      "outputs": [
        {
          "output_type": "stream",
          "name": "stdout",
          "text": [
            "Model: \"sequential_7\"\n",
            "_________________________________________________________________\n",
            " Layer (type)                Output Shape              Param #   \n",
            "=================================================================\n",
            " dense_21 (Dense)            (None, 8)                 24        \n",
            "                                                                 \n",
            " dense_22 (Dense)            (None, 8)                 72        \n",
            "                                                                 \n",
            " dropout_5 (Dropout)         (None, 8)                 0         \n",
            "                                                                 \n",
            " dense_23 (Dense)            (None, 1)                 9         \n",
            "                                                                 \n",
            "=================================================================\n",
            "Total params: 105\n",
            "Trainable params: 105\n",
            "Non-trainable params: 0\n",
            "_________________________________________________________________\n"
          ]
        }
      ]
    },
    {
      "cell_type": "code",
      "metadata": {
        "colab": {
          "base_uri": "https://localhost:8080/",
          "height": 533
        },
        "id": "yIPxmyXCuNh-",
        "outputId": "241e0da0-a438-4956-c9f0-a2a56ef92ba3"
      },
      "source": [
        "tf.keras.utils.plot_model(model, 'model.png', show_shapes=True)"
      ],
      "execution_count": 29,
      "outputs": [
        {
          "output_type": "execute_result",
          "data": {
            "image/png": "[encoded data removed]",
            "text/plain": [
              "<IPython.core.display.Image object>"
            ]
          },
          "metadata": {},
          "execution_count": 29
        }
      ]
    },
    {
      "cell_type": "code",
      "metadata": {
        "id": "0HXZ8_Ydu98w"
      },
      "source": [
        "# 모델 저장 설정\n",
        "save_weights = tf.keras.callbacks.ModelCheckpoint(\"model.hdf5\",\n",
        "                                                  monitor='val_accuracy',\n",
        "                                                  verbose=1,\n",
        "                                                  save_best_only=True,\n",
        "                                                  mode=\"max\",\n",
        "                                                  save_freq=\"epoch\",\n",
        "                                                  save_weights_only=True)"
      ],
      "execution_count": 30,
      "outputs": []
    },
    {
      "cell_type": "code",
      "metadata": {
        "colab": {
          "base_uri": "https://localhost:8080/"
        },
        "id": "rDi0p6zpu9_E",
        "outputId": "c3405b9f-4cbc-46cc-b012-c06e48e580af"
      },
      "source": [
        "# 모델 학습 및 필요 데이터 저장 \n",
        "history = model.fit(x_train, y_train, validation_data=(x_val, y_val) ,\n",
        "                    epochs=20,   # 전체 프로세스를 몇번 반복할것인지.\n",
        "                    batch_size=100, # 한 epochs를 돌때, 우리가 데이터를 몇개씩 하나의 batch로 입력시킬것인지.\n",
        "                    callbacks=[save_weights])"
      ],
      "execution_count": 41,
      "outputs": [
        {
          "output_type": "stream",
          "name": "stdout",
          "text": [
            "Epoch 1/20\n",
            "1/3 [=========>....................] - ETA: 0s - loss: 0.6067 - accuracy: 0.6100\n",
            "Epoch 00001: val_accuracy did not improve from 0.73750\n",
            "3/3 [==============================] - 0s 35ms/step - loss: 0.5904 - accuracy: 0.6458 - val_loss: 0.5230 - val_accuracy: 0.6875\n",
            "Epoch 2/20\n",
            "1/3 [=========>....................] - ETA: 0s - loss: 0.5125 - accuracy: 0.7000\n",
            "Epoch 00002: val_accuracy did not improve from 0.73750\n",
            "3/3 [==============================] - 0s 16ms/step - loss: 0.5329 - accuracy: 0.6958 - val_loss: 0.5196 - val_accuracy: 0.6875\n",
            "Epoch 3/20\n",
            "1/3 [=========>....................] - ETA: 0s - loss: 0.5652 - accuracy: 0.6300\n",
            "Epoch 00003: val_accuracy did not improve from 0.73750\n",
            "3/3 [==============================] - 0s 15ms/step - loss: 0.5358 - accuracy: 0.6542 - val_loss: 0.5177 - val_accuracy: 0.6875\n",
            "Epoch 4/20\n",
            "1/3 [=========>....................] - ETA: 0s - loss: 0.5665 - accuracy: 0.6100\n",
            "Epoch 00004: val_accuracy did not improve from 0.73750\n",
            "3/3 [==============================] - 0s 17ms/step - loss: 0.5552 - accuracy: 0.6500 - val_loss: 0.5169 - val_accuracy: 0.6875\n",
            "Epoch 5/20\n",
            "1/3 [=========>....................] - ETA: 0s - loss: 0.5554 - accuracy: 0.6600\n",
            "Epoch 00005: val_accuracy did not improve from 0.73750\n",
            "3/3 [==============================] - 0s 14ms/step - loss: 0.5521 - accuracy: 0.6583 - val_loss: 0.5168 - val_accuracy: 0.6875\n",
            "Epoch 6/20\n",
            "1/3 [=========>....................] - ETA: 0s - loss: 0.5604 - accuracy: 0.6800\n",
            "Epoch 00006: val_accuracy did not improve from 0.73750\n",
            "3/3 [==============================] - 0s 14ms/step - loss: 0.5684 - accuracy: 0.6417 - val_loss: 0.5170 - val_accuracy: 0.6875\n",
            "Epoch 7/20\n",
            "1/3 [=========>....................] - ETA: 0s - loss: 0.5564 - accuracy: 0.6200\n",
            "Epoch 00007: val_accuracy did not improve from 0.73750\n",
            "3/3 [==============================] - 0s 16ms/step - loss: 0.5519 - accuracy: 0.6583 - val_loss: 0.5176 - val_accuracy: 0.6875\n",
            "Epoch 8/20\n",
            "1/3 [=========>....................] - ETA: 0s - loss: 0.6075 - accuracy: 0.6200\n",
            "Epoch 00008: val_accuracy did not improve from 0.73750\n",
            "3/3 [==============================] - 0s 13ms/step - loss: 0.5510 - accuracy: 0.6708 - val_loss: 0.5187 - val_accuracy: 0.6875\n",
            "Epoch 9/20\n",
            "1/3 [=========>....................] - ETA: 0s - loss: 0.5911 - accuracy: 0.5900\n",
            "Epoch 00009: val_accuracy did not improve from 0.73750\n",
            "3/3 [==============================] - 0s 13ms/step - loss: 0.5502 - accuracy: 0.6333 - val_loss: 0.5194 - val_accuracy: 0.6875\n",
            "Epoch 10/20\n",
            "1/3 [=========>....................] - ETA: 0s - loss: 0.6082 - accuracy: 0.6200\n",
            "Epoch 00010: val_accuracy did not improve from 0.73750\n",
            "3/3 [==============================] - 0s 15ms/step - loss: 0.5633 - accuracy: 0.6708 - val_loss: 0.5199 - val_accuracy: 0.6875\n",
            "Epoch 11/20\n",
            "1/3 [=========>....................] - ETA: 0s - loss: 0.5636 - accuracy: 0.6800\n",
            "Epoch 00011: val_accuracy did not improve from 0.73750\n",
            "3/3 [==============================] - 0s 16ms/step - loss: 0.5246 - accuracy: 0.7167 - val_loss: 0.5204 - val_accuracy: 0.6875\n",
            "Epoch 12/20\n",
            "1/3 [=========>....................] - ETA: 0s - loss: 0.5519 - accuracy: 0.7000\n",
            "Epoch 00012: val_accuracy did not improve from 0.73750\n",
            "3/3 [==============================] - 0s 15ms/step - loss: 0.5836 - accuracy: 0.6750 - val_loss: 0.5216 - val_accuracy: 0.6875\n",
            "Epoch 13/20\n",
            "1/3 [=========>....................] - ETA: 0s - loss: 0.5535 - accuracy: 0.6800\n",
            "Epoch 00013: val_accuracy did not improve from 0.73750\n",
            "3/3 [==============================] - 0s 27ms/step - loss: 0.5708 - accuracy: 0.6625 - val_loss: 0.5237 - val_accuracy: 0.6875\n",
            "Epoch 14/20\n",
            "1/3 [=========>....................] - ETA: 0s - loss: 0.5643 - accuracy: 0.6700\n",
            "Epoch 00014: val_accuracy did not improve from 0.73750\n",
            "3/3 [==============================] - 0s 14ms/step - loss: 0.5598 - accuracy: 0.6583 - val_loss: 0.5240 - val_accuracy: 0.6875\n",
            "Epoch 15/20\n",
            "1/3 [=========>....................] - ETA: 0s - loss: 0.5816 - accuracy: 0.6700\n",
            "Epoch 00015: val_accuracy did not improve from 0.73750\n",
            "3/3 [==============================] - 0s 15ms/step - loss: 0.5799 - accuracy: 0.6792 - val_loss: 0.5245 - val_accuracy: 0.6875\n",
            "Epoch 16/20\n",
            "1/3 [=========>....................] - ETA: 0s - loss: 0.5944 - accuracy: 0.6500\n",
            "Epoch 00016: val_accuracy did not improve from 0.73750\n",
            "3/3 [==============================] - 0s 16ms/step - loss: 0.5697 - accuracy: 0.6625 - val_loss: 0.5260 - val_accuracy: 0.7000\n",
            "Epoch 17/20\n",
            "1/3 [=========>....................] - ETA: 0s - loss: 0.5131 - accuracy: 0.7800\n",
            "Epoch 00017: val_accuracy did not improve from 0.73750\n",
            "3/3 [==============================] - 0s 15ms/step - loss: 0.5646 - accuracy: 0.6708 - val_loss: 0.5257 - val_accuracy: 0.7000\n",
            "Epoch 18/20\n",
            "1/3 [=========>....................] - ETA: 0s - loss: 0.5751 - accuracy: 0.6700\n",
            "Epoch 00018: val_accuracy did not improve from 0.73750\n",
            "3/3 [==============================] - 0s 19ms/step - loss: 0.5379 - accuracy: 0.7083 - val_loss: 0.5242 - val_accuracy: 0.6875\n",
            "Epoch 19/20\n",
            "1/3 [=========>....................] - ETA: 0s - loss: 0.5288 - accuracy: 0.7100\n",
            "Epoch 00019: val_accuracy did not improve from 0.73750\n",
            "3/3 [==============================] - 0s 15ms/step - loss: 0.5639 - accuracy: 0.6833 - val_loss: 0.5214 - val_accuracy: 0.6875\n",
            "Epoch 20/20\n",
            "1/3 [=========>....................] - ETA: 0s - loss: 0.5215 - accuracy: 0.7200\n",
            "Epoch 00020: val_accuracy did not improve from 0.73750\n",
            "3/3 [==============================] - 0s 14ms/step - loss: 0.5280 - accuracy: 0.7083 - val_loss: 0.5192 - val_accuracy: 0.6875\n"
          ]
        }
      ]
    },
    {
      "cell_type": "code",
      "metadata": {
        "colab": {
          "base_uri": "https://localhost:8080/"
        },
        "id": "RRvMGMFivyOC",
        "outputId": "f3dfd6e1-67e5-4b0b-ddde-00f798505469"
      },
      "source": [
        "# 훈련된 이미지 분류기는 이 데이터셋에서 거의 99.9%의 정확도를 달성\n",
        "loss, accuracy = model.evaluate(x_test,  y_test, verbose=2)\n",
        "print(\"Loss: \", loss)\n",
        "print(\"Accuracy: \", accuracy)"
      ],
      "execution_count": 42,
      "outputs": [
        {
          "output_type": "stream",
          "name": "stdout",
          "text": [
            "3/3 - 0s - loss: 0.5207 - accuracy: 0.6875 - 19ms/epoch - 6ms/step\n",
            "Loss:  0.5206729769706726\n",
            "Accuracy:  0.6875\n"
          ]
        }
      ]
    },
    {
      "cell_type": "code",
      "metadata": {
        "colab": {
          "base_uri": "https://localhost:8080/"
        },
        "id": "vWMe9D2lvyQN",
        "outputId": "9d358527-bc4c-4213-be2d-2a7954aff69a"
      },
      "source": [
        "# 학습간 저장된 데이터 확인  \n",
        "history_dict = history.history\n",
        "history_dict.keys()"
      ],
      "execution_count": 43,
      "outputs": [
        {
          "output_type": "execute_result",
          "data": {
            "text/plain": [
              "dict_keys(['loss', 'accuracy', 'val_loss', 'val_accuracy'])"
            ]
          },
          "metadata": {},
          "execution_count": 43
        }
      ]
    },
    {
      "cell_type": "code",
      "metadata": {
        "colab": {
          "base_uri": "https://localhost:8080/",
          "height": 295
        },
        "id": "Dr1YrW1rvySP",
        "outputId": "ac3f66f4-9c32-458b-b7f6-b7d38976ac2e"
      },
      "source": [
        "# 손실과 정확도 도식 \n",
        "acc = history_dict['accuracy']\n",
        "val_acc = history_dict['val_accuracy']\n",
        "loss = history_dict['loss']\n",
        "val_loss = history_dict['val_loss']\n",
        "\n",
        "epochs = range(1, len(acc) + 1)\n",
        "\n",
        "# \"bo\" is for \"blue dot\"\n",
        "plt.plot(epochs, loss, 'bo', label='Training loss')\n",
        "# b is for \"solid blue line\"\n",
        "plt.plot(epochs, val_loss, 'b', label='Validation loss')\n",
        "plt.title('Training and validation loss')\n",
        "plt.xlabel('Epochs')\n",
        "plt.ylabel('Loss')\n",
        "plt.legend()\n",
        "\n",
        "plt.show()"
      ],
      "execution_count": 44,
      "outputs": [
        {
          "output_type": "display_data",
          "data": {
            "image/png": "[encoded data removed]",
            "text/plain": [
              "<Figure size 432x288 with 1 Axes>"
            ]
          },
          "metadata": {
            "needs_background": "light"
          }
        }
      ]
    },
    {
      "cell_type": "code",
      "metadata": {
        "colab": {
          "base_uri": "https://localhost:8080/",
          "height": 295
        },
        "id": "Vn09G8C7vyUT",
        "outputId": "e38727f2-5870-444e-a4c3-db84a46ae610"
      },
      "source": [
        "plt.plot(epochs, acc, 'bo', label='Training acc')\n",
        "plt.plot(epochs, val_acc, 'b', label='Validation acc')\n",
        "plt.title('Training and validation accuracy')\n",
        "plt.xlabel('Epochs')\n",
        "plt.ylabel('Accuracy')\n",
        "plt.legend(loc='lower right')\n",
        "\n",
        "plt.show()"
      ],
      "execution_count": 45,
      "outputs": [
        {
          "output_type": "display_data",
          "data": {
            "image/png": "[encoded data removed]",
            "text/plain": [
              "<Figure size 432x288 with 1 Axes>"
            ]
          },
          "metadata": {
            "needs_background": "light"
          }
        }
      ]
    },
    {
      "cell_type": "code",
      "metadata": {
        "id": "Q9_E4GzCrZPN"
      },
      "source": [
        "new_x = [[101,3.6],[340,3.2],[580,4.3]]"
      ],
      "execution_count": 52,
      "outputs": []
    },
    {
      "cell_type": "code",
      "metadata": {
        "colab": {
          "base_uri": "https://localhost:8080/"
        },
        "id": "lvdewsBhyDYS",
        "outputId": "20e267dd-2d0f-40c1-ad45-4ede50c3ab37"
      },
      "source": [
        "# 저장된 모델 호출 \n",
        "model.load_weights('model.hdf5')\n",
        "\n",
        "y_pred = model.predict(new_x)\n",
        "print(np.round(y_pred).astype(int))"
      ],
      "execution_count": 53,
      "outputs": [
        {
          "output_type": "stream",
          "name": "stdout",
          "text": [
            "[[0]\n",
            " [0]\n",
            " [1]]\n"
          ]
        }
      ]
    },
    {
      "cell_type": "code",
      "metadata": {
        "id": "BhUIoGsAVUFx"
      },
      "source": [
        "#모델 평가결과 정확도 향상을 위해 추가적으로 노력해야할 사항은 어떤 것이 있는지 기술하세요.\n",
        " 모델 평가결과의 정확도가 낮다면 향상을 위해서는 데이터의 양을 기존의 양보다 늘릴 필요가 있습니다. 또한 전체 프로세스를 몇번 반복할것인지에 대한 epochs의 값과  \n",
        " 한 epochs를 돌때, 우리가 데이터를 몇개씩 하나의 batch로 입력시킬것인지에 대해 batch_size의 값을 바꿔주면서 모델을 학습시켜주면 정확도가 전보다 향상될 것입니다. 또한, \n",
        " 데이터의 각 가중치를 조절한다면 모델의 정확도를 향상시킬 수 있다고 생각합니다.\n",
        " 위의 모델에서는 데이터의 양이 적어 epochs의 값과 batch_size의 값을 작게 설정해 주었습니다. 이렇듯, 데이터의 양이나 모델의 수를 늘려주고 epochs값과 batch_size의 값을 \n",
        " 조정해주면 정확도를 향상시키는 데 도움이 될 것입니다."
      ],
      "execution_count": null,
      "outputs": []
    }
  ]
}