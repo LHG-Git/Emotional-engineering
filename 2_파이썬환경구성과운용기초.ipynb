{
  "nbformat": 4,
  "nbformat_minor": 0,
  "metadata": {
    "colab": {
      "name": "2_파이썬환경구성과운용기초.ipynb",
      "provenance": [],
      "collapsed_sections": [],
      "toc_visible": true
    },
    "kernelspec": {
      "name": "python3",
      "display_name": "Python 3"
    },
    "language_info": {
      "name": "python"
    }
  },
  "cells": [
    {
      "cell_type": "markdown",
      "metadata": {
        "id": "fjLuLFhcM8YV"
      },
      "source": [
        "# 1.코랩 소개"
      ]
    },
    {
      "cell_type": "markdown",
      "metadata": {
        "id": "Wo30msyqNELH"
      },
      "source": [
        "참조 사이트 : https://colab.research.google.com/notebooks/intro.ipynb"
      ]
    },
    {
      "cell_type": "markdown",
      "metadata": {
        "id": "a5lZUPiaNUiz"
      },
      "source": [
        "꼭 필요한 단축키 사용법 : command mode와 edit mode 로 구분\n",
        "* Ctrl + Enter 해당셀 실행\n",
        "* Shift + Enter 해당셀 실행후 다음셀로 옮기기\n",
        "* 주석 처리 해당 라인 마우스로 선택 후 Ctrl+/ \n",
        "\n",
        "추가적으로 필요한 단축키 알아보기 : https://towardsdatascience.com/jypyter-notebook-shortcuts-bf0101a98330"
      ]
    },
    {
      "cell_type": "code",
      "metadata": {
        "colab": {
          "base_uri": "https://localhost:8080/"
        },
        "id": "6IPToUtBiASI",
        "outputId": "8c493138-2ded-40da-95dd-0fb679523804"
      },
      "source": [
        "print('welcome to python!')"
      ],
      "execution_count": 17,
      "outputs": [
        {
          "output_type": "stream",
          "name": "stdout",
          "text": [
            "welcome to python!\n"
          ]
        }
      ]
    },
    {
      "cell_type": "markdown",
      "metadata": {
        "id": "bWdDy8o8OPYc"
      },
      "source": [
        "# 2.파이썬 운용환경"
      ]
    },
    {
      "cell_type": "markdown",
      "metadata": {
        "id": "oXYZo8_hXbwx"
      },
      "source": [
        "* 코랩 작업 디렉토리 구조와 환경 이해 : 우분투 리눅스 명령 사용 가능\n",
        "* 구글드라이브와 연결시켜 내 데이터를 불러오거나 코랩 데이터를 저장하는 방법 이해"
      ]
    },
    {
      "cell_type": "markdown",
      "metadata": {
        "id": "IX518oKLlO1W"
      },
      "source": [
        "## 가. 코랩 운용환경"
      ]
    },
    {
      "cell_type": "markdown",
      "metadata": {
        "id": "8lqIduygkm1v"
      },
      "source": [
        "코랩 운용환경은 기본적으로 리눅스 우분투 18.04를 사용"
      ]
    },
    {
      "cell_type": "code",
      "metadata": {
        "colab": {
          "base_uri": "https://localhost:8080/"
        },
        "id": "z9uAzjnFkfgT",
        "outputId": "76f39ad3-5cb0-427d-cc34-d58277825b55"
      },
      "source": [
        "!cat /etc/issue"
      ],
      "execution_count": 18,
      "outputs": [
        {
          "output_type": "stream",
          "name": "stdout",
          "text": [
            "Ubuntu 18.04.5 LTS \\n \\l\n",
            "\n"
          ]
        }
      ]
    },
    {
      "cell_type": "code",
      "metadata": {
        "colab": {
          "base_uri": "https://localhost:8080/"
        },
        "id": "ui1Cf6ZTkWmq",
        "outputId": "2be33095-a659-4d69-b3c9-591b17b7d939"
      },
      "source": [
        "!python --version"
      ],
      "execution_count": 19,
      "outputs": [
        {
          "output_type": "stream",
          "name": "stdout",
          "text": [
            "Python 3.7.11\n"
          ]
        }
      ]
    },
    {
      "cell_type": "code",
      "metadata": {
        "id": "EcFWgCm8Mt3d"
      },
      "source": [
        "# !pip list"
      ],
      "execution_count": 20,
      "outputs": []
    },
    {
      "cell_type": "markdown",
      "metadata": {
        "id": "lovely-passion"
      },
      "source": [
        "## 나.파일 생성 및 실행 구조"
      ]
    },
    {
      "cell_type": "code",
      "metadata": {
        "colab": {
          "base_uri": "https://localhost:8080/"
        },
        "id": "GawtUdEcsnhc",
        "outputId": "0ce6dd05-c879-436f-e06b-b434c2756c9f"
      },
      "source": [
        "text = '안녕하세요!'\n",
        "a = 1; b=2\n",
        "print(text, a+b)"
      ],
      "execution_count": 21,
      "outputs": [
        {
          "output_type": "stream",
          "name": "stdout",
          "text": [
            "안녕하세요! 3\n"
          ]
        }
      ]
    },
    {
      "cell_type": "code",
      "metadata": {
        "colab": {
          "base_uri": "https://localhost:8080/"
        },
        "id": "g4ROvFBJtIWX",
        "outputId": "8f1b1334-77cc-4579-b523-f0bdaa7620fd"
      },
      "source": [
        "type(text)"
      ],
      "execution_count": 22,
      "outputs": [
        {
          "output_type": "execute_result",
          "data": {
            "text/plain": [
              "str"
            ]
          },
          "metadata": {},
          "execution_count": 22
        }
      ]
    },
    {
      "cell_type": "markdown",
      "metadata": {
        "id": "GAeU3Zttne-B"
      },
      "source": [
        "매직 명령과 우분투 명령어 사용 방법"
      ]
    },
    {
      "cell_type": "code",
      "metadata": {
        "id": "Da8TuIZqihhJ"
      },
      "source": [
        "!echo 'print(1+2)' > 'example.py'"
      ],
      "execution_count": 23,
      "outputs": []
    },
    {
      "cell_type": "code",
      "metadata": {
        "colab": {
          "base_uri": "https://localhost:8080/"
        },
        "id": "NBEK7u18ioDZ",
        "outputId": "b7adb505-5282-425f-cd23-61bed7be5325"
      },
      "source": [
        "!python example.py"
      ],
      "execution_count": 24,
      "outputs": [
        {
          "output_type": "stream",
          "name": "stdout",
          "text": [
            "3\n"
          ]
        }
      ]
    },
    {
      "cell_type": "code",
      "metadata": {
        "colab": {
          "base_uri": "https://localhost:8080/"
        },
        "id": "JF0UmR06tVLd",
        "outputId": "30be9986-3e80-4f63-916a-cc3d63cf086d"
      },
      "source": [
        "%run example.py"
      ],
      "execution_count": 25,
      "outputs": [
        {
          "output_type": "stream",
          "name": "stdout",
          "text": [
            "3\n"
          ]
        }
      ]
    },
    {
      "cell_type": "code",
      "metadata": {
        "colab": {
          "base_uri": "https://localhost:8080/"
        },
        "id": "XCfxJvyUtjyP",
        "outputId": "26b0ac5d-9385-494f-ddeb-f8df16342041"
      },
      "source": [
        "# 파이썬 파일 만들기\n",
        "%%writefile example1.py\n",
        "text = '안녕하세요!'\n",
        "a = 1; b=2\n",
        "print(text, a+b)"
      ],
      "execution_count": 26,
      "outputs": [
        {
          "output_type": "stream",
          "name": "stdout",
          "text": [
            "Overwriting example1.py\n"
          ]
        }
      ]
    },
    {
      "cell_type": "code",
      "metadata": {
        "colab": {
          "base_uri": "https://localhost:8080/"
        },
        "id": "kKXIMAkYtyh2",
        "outputId": "317cf213-e33b-4ea8-e50a-c9fb672261a7"
      },
      "source": [
        "%run example1.py"
      ],
      "execution_count": 27,
      "outputs": [
        {
          "output_type": "stream",
          "name": "stdout",
          "text": [
            "안녕하세요! 3\n"
          ]
        }
      ]
    },
    {
      "cell_type": "markdown",
      "metadata": {
        "id": "3Trz2439XLSC"
      },
      "source": [
        "## 다.구글드라이브 마운트(연결)"
      ]
    },
    {
      "cell_type": "code",
      "metadata": {
        "id": "xVRdxYReYeQj",
        "colab": {
          "base_uri": "https://localhost:8080/"
        },
        "outputId": "aa45dbd8-0a48-4c1a-ba1d-0b516fefa96c"
      },
      "source": [
        "# google drive mount - 생성된 링크 누르고 로그인\n",
        "# 로그인 후 코드복사 및 아래 생성된 네모바스에 붙여넣기\n",
        "from google.colab import drive\n",
        "drive.mount('/content/drive')"
      ],
      "execution_count": 28,
      "outputs": [
        {
          "output_type": "stream",
          "name": "stdout",
          "text": [
            "Drive already mounted at /content/drive; to attempt to forcibly remount, call drive.mount(\"/content/drive\", force_remount=True).\n"
          ]
        }
      ]
    },
    {
      "cell_type": "code",
      "metadata": {
        "id": "byCIiLJBbFHh",
        "colab": {
          "base_uri": "https://localhost:8080/"
        },
        "outputId": "74d2031f-277a-4096-f640-f1b0bfd31a7d"
      },
      "source": [
        "# 구들드라이브 연결디렉토리 정의와 자료 검색\n",
        "import os\n",
        "mydrive_dir = '/content/drive/MyDrive/'\n",
        "os.listdir(mydrive_dir)"
      ],
      "execution_count": 29,
      "outputs": [
        {
          "output_type": "execute_result",
          "data": {
            "text/plain": [
              "['Colab Notebooks', 'data', 'CUK강의자료']"
            ]
          },
          "metadata": {},
          "execution_count": 29
        }
      ]
    },
    {
      "cell_type": "code",
      "metadata": {
        "id": "Y_uejAndANVD"
      },
      "source": [
        "# 구글 드라이브에 data 디렉토리 없는 경우 생성\n",
        "import os\n",
        "data_dir = os.path.join(mydrive_dir,'data')\n",
        "if not os.path.isdir(data_dir):\n",
        "    os.makedirs(data_dir)"
      ],
      "execution_count": 30,
      "outputs": []
    },
    {
      "cell_type": "code",
      "metadata": {
        "id": "OdTWw6twOUt_",
        "colab": {
          "base_uri": "https://localhost:8080/"
        },
        "outputId": "0eba2638-f45a-44df-fb9c-a74a9ca428c2"
      },
      "source": [
        "# 추가된 data 디렉토리 확인 \n",
        "os.listdir(data_dir)"
      ],
      "execution_count": 31,
      "outputs": [
        {
          "output_type": "execute_result",
          "data": {
            "text/plain": [
              "['My_ID.py',\n",
              " 'myfile.txt',\n",
              " 'test.py',\n",
              " 'My_Setting.py',\n",
              " '__pycache__',\n",
              " 'research.txt',\n",
              " 'movie_comment.csv']"
            ]
          },
          "metadata": {},
          "execution_count": 31
        }
      ]
    },
    {
      "cell_type": "markdown",
      "metadata": {
        "id": "1Z56tswcdMDB"
      },
      "source": [
        "# 3.코랩 사용법"
      ]
    },
    {
      "cell_type": "markdown",
      "metadata": {
        "id": "sJioOMf6j-Pv"
      },
      "source": [
        "## 가.자료 생성 / 저장, 읽어오기"
      ]
    },
    {
      "cell_type": "code",
      "metadata": {
        "id": "lMICVIPXgCF3"
      },
      "source": [
        "f = open(os.path.join(data_dir, \"test.txt\"), 'w')\n",
        "f.write('텍스트를 저장하고 읽어오기를 실습하고 있습니다.')\n",
        "f.close()"
      ],
      "execution_count": 32,
      "outputs": []
    },
    {
      "cell_type": "code",
      "metadata": {
        "colab": {
          "base_uri": "https://localhost:8080/"
        },
        "id": "hszRB5njf5fY",
        "outputId": "6dbbe7ed-ae0a-4288-84b9-f1cf52e7e7ac"
      },
      "source": [
        "f = open(os.path.join(data_dir, \"test.txt\"), 'r')\n",
        "data = f.read()\n",
        "print(data)\n",
        "f.close()"
      ],
      "execution_count": 33,
      "outputs": [
        {
          "output_type": "stream",
          "name": "stdout",
          "text": [
            "텍스트를 저장하고 읽어오기를 실습하고 있습니다.\n"
          ]
        }
      ]
    },
    {
      "cell_type": "code",
      "metadata": {
        "colab": {
          "base_uri": "https://localhost:8080/"
        },
        "id": "Rx3IQLPvdYLI",
        "outputId": "90ba49d5-4d0d-476e-841d-1d1d0c144d54"
      },
      "source": [
        "with open(\"/content/drive/MyDrive/data/test.txt\", \"r\") as f:\n",
        "  test=f.read()\n",
        "print(test)"
      ],
      "execution_count": 34,
      "outputs": [
        {
          "output_type": "stream",
          "name": "stdout",
          "text": [
            "텍스트를 저장하고 읽어오기를 실습하고 있습니다.\n"
          ]
        }
      ]
    },
    {
      "cell_type": "code",
      "metadata": {
        "colab": {
          "base_uri": "https://localhost:8080/"
        },
        "id": "8OBADNlZfKR3",
        "outputId": "2a665cf9-9eec-4238-8255-46b67e9d225e"
      },
      "source": [
        "# 구글드라이브에 파일 복사해서 저장하기\n",
        "!cp example.py /content/drive/MyDrive/data\n",
        "os.listdir(data_dir)"
      ],
      "execution_count": 35,
      "outputs": [
        {
          "output_type": "execute_result",
          "data": {
            "text/plain": [
              "['My_ID.py',\n",
              " 'myfile.txt',\n",
              " 'test.py',\n",
              " 'My_Setting.py',\n",
              " '__pycache__',\n",
              " 'research.txt',\n",
              " 'movie_comment.csv',\n",
              " 'test.txt',\n",
              " 'example.py']"
            ]
          },
          "metadata": {},
          "execution_count": 35
        }
      ]
    },
    {
      "cell_type": "code",
      "metadata": {
        "id": "nN-Z5rFrlW5_"
      },
      "source": [
        "# 구글드라이브 파일 복사해서 작업디렉토리로 옮기기\n",
        "!cp /content/drive/MyDrive/data/test.txt /content/"
      ],
      "execution_count": 36,
      "outputs": []
    },
    {
      "cell_type": "markdown",
      "metadata": {
        "id": "LiHqjZmA2siP"
      },
      "source": [
        "## 나.라이브러리, 클래스, 사용자 모듈 활용"
      ]
    },
    {
      "cell_type": "code",
      "metadata": {
        "colab": {
          "base_uri": "https://localhost:8080/"
        },
        "id": "L3mxpsNe8Pac",
        "outputId": "57e1bf96-279e-4373-8f24-e85dd41a1034"
      },
      "source": [
        "import numpy as np\n",
        "x = np.linspace(0, 1, 10)\n",
        "x"
      ],
      "execution_count": 37,
      "outputs": [
        {
          "output_type": "execute_result",
          "data": {
            "text/plain": [
              "array([0.        , 0.11111111, 0.22222222, 0.33333333, 0.44444444,\n",
              "       0.55555556, 0.66666667, 0.77777778, 0.88888889, 1.        ])"
            ]
          },
          "metadata": {},
          "execution_count": 37
        }
      ]
    },
    {
      "cell_type": "code",
      "metadata": {
        "colab": {
          "base_uri": "https://localhost:8080/"
        },
        "id": "yNm5OE8H9whL",
        "outputId": "42c15734-b677-4196-9074-1392fccade46"
      },
      "source": [
        "from numpy.random import rand, randint, randn\n",
        "print('1번', rand(2,3))\n",
        "print('2번', randint(5, size=(2, 3)))\n",
        "print('3번', randn(2,3)) "
      ],
      "execution_count": 38,
      "outputs": [
        {
          "output_type": "stream",
          "name": "stdout",
          "text": [
            "1번 [[0.53157594 0.76280394 0.1210604 ]\n",
            " [0.08326469 0.17435682 0.46240394]]\n",
            "2번 [[0 4 0]\n",
            " [0 4 3]]\n",
            "3번 [[-0.22553042  0.6219507  -0.1780398 ]\n",
            " [ 0.68166904  1.2900753  -0.61589222]]\n"
          ]
        }
      ]
    },
    {
      "cell_type": "code",
      "metadata": {
        "colab": {
          "base_uri": "https://localhost:8080/",
          "height": 265
        },
        "id": "hK01CKuvCRgp",
        "outputId": "78e69f1a-e818-4988-dac5-5811ca75083f"
      },
      "source": [
        "import matplotlib.pyplot as plt\n",
        "\n",
        "x = np.linspace(0, 1, 100)\n",
        "y = np.sqrt(1 - np.square(x))\n",
        "plt.figure(figsize=(4, 4))\n",
        "plt.plot(x, y)\n",
        "plt.grid()\n",
        "plt.show()"
      ],
      "execution_count": 39,
      "outputs": [
        {
          "output_type": "display_data",
          "data": {
            "image/png": "[encoded data removed]",
            "text/plain": [
              "<Figure size 288x288 with 1 Axes>"
            ]
          },
          "metadata": {
            "needs_background": "light"
          }
        }
      ]
    },
    {
      "cell_type": "code",
      "metadata": {
        "id": "standard-capability",
        "colab": {
          "base_uri": "https://localhost:8080/"
        },
        "outputId": "3032927b-e432-4bc9-81b3-2be6c37a2a43"
      },
      "source": [
        "# 파이썬 사용자 모듈 만들기\n",
        "%%writefile test.py\n",
        "def add(a, b): \n",
        "    return a+b\n",
        "\n",
        "def sub(a, b): \n",
        "    return a-b\n",
        "\n",
        "my_id = u'유병주'\n",
        "\n",
        "if __name__ == \"__main__\":\n",
        "    print('직접 실행했습니다.')"
      ],
      "execution_count": 40,
      "outputs": [
        {
          "output_type": "stream",
          "name": "stdout",
          "text": [
            "Overwriting test.py\n"
          ]
        }
      ]
    },
    {
      "cell_type": "code",
      "metadata": {
        "id": "floral-brazil",
        "colab": {
          "base_uri": "https://localhost:8080/"
        },
        "outputId": "7147d68d-a279-4763-c7e8-48c7d5cefd29"
      },
      "source": [
        "!python test.py"
      ],
      "execution_count": 41,
      "outputs": [
        {
          "output_type": "stream",
          "name": "stdout",
          "text": [
            "직접 실행했습니다.\n"
          ]
        }
      ]
    },
    {
      "cell_type": "code",
      "metadata": {
        "id": "fuzzy-ordering",
        "colab": {
          "base_uri": "https://localhost:8080/"
        },
        "outputId": "4e9b591b-189f-4196-cec9-ca8762c4a1c4"
      },
      "source": [
        "# 모듈로 불러쓰기\n",
        "from test import *\n",
        "print(add(1,2),sub(4,2))\n",
        "add(10,2)\n",
        "print(my_id)"
      ],
      "execution_count": 42,
      "outputs": [
        {
          "output_type": "stream",
          "name": "stdout",
          "text": [
            "3 2\n",
            "유병주\n"
          ]
        }
      ]
    },
    {
      "cell_type": "code",
      "metadata": {
        "id": "small-mirror",
        "colab": {
          "base_uri": "https://localhost:8080/"
        },
        "outputId": "c689649f-1290-45dc-dc97-7a420604f745"
      },
      "source": [
        "%%writefile My_ID.py\n",
        "my_id = '유병주'"
      ],
      "execution_count": 43,
      "outputs": [
        {
          "output_type": "stream",
          "name": "stdout",
          "text": [
            "Writing My_ID.py\n"
          ]
        }
      ]
    },
    {
      "cell_type": "code",
      "metadata": {
        "id": "surface-stand",
        "colab": {
          "base_uri": "https://localhost:8080/"
        },
        "outputId": "3a3dd1da-6823-481c-ce58-517815312a74"
      },
      "source": [
        "from My_ID import *\n",
        "Naver_id = my_id\n",
        "print(Naver_id)"
      ],
      "execution_count": 44,
      "outputs": [
        {
          "output_type": "stream",
          "name": "stdout",
          "text": [
            "유병주\n"
          ]
        }
      ]
    },
    {
      "cell_type": "markdown",
      "metadata": {
        "id": "7VOCh__rOWdz"
      },
      "source": [
        "# 4.파이썬 운용 기초"
      ]
    },
    {
      "cell_type": "markdown",
      "metadata": {
        "id": "loving-burlington"
      },
      "source": [
        "## 가.리스트, 딕셔너리, 데이터프레임"
      ]
    },
    {
      "cell_type": "code",
      "metadata": {
        "id": "looking-bernard",
        "colab": {
          "base_uri": "https://localhost:8080/"
        },
        "outputId": "3d9846cb-8274-4bc5-b171-a71a46d99fce"
      },
      "source": [
        "# list \n",
        "names = ['김강남','양서초', '유신촌']\n",
        "print(names[:2])\n",
        "for i in names:\n",
        "    print(i)\n",
        "\n",
        "# list 객체로 받기\n",
        "urls = names\n",
        "new_list = []\n",
        "for url in urls:\n",
        "    new_list.append(url)\n",
        "new_list"
      ],
      "execution_count": 45,
      "outputs": [
        {
          "output_type": "stream",
          "name": "stdout",
          "text": [
            "['김강남', '양서초']\n",
            "김강남\n",
            "양서초\n",
            "유신촌\n"
          ]
        },
        {
          "output_type": "execute_result",
          "data": {
            "text/plain": [
              "['김강남', '양서초', '유신촌']"
            ]
          },
          "metadata": {},
          "execution_count": 45
        }
      ]
    },
    {
      "cell_type": "code",
      "metadata": {
        "colab": {
          "base_uri": "https://localhost:8080/"
        },
        "id": "6vbBkXG_msQR",
        "outputId": "e1e54053-6836-4151-9261-b5eee46fba28"
      },
      "source": [
        "# 리스트와 유사한 튜플, 속성값 교체 불가, 짝짓기 용이\n",
        "# 짝짓기\n",
        "name = ('A', 'B', 'C')\n",
        "type(name)\n",
        "K_1, K_2, K_3 = name\n",
        "print(K_1); print(K_2); print(K_3)"
      ],
      "execution_count": 46,
      "outputs": [
        {
          "output_type": "stream",
          "name": "stdout",
          "text": [
            "A\n",
            "B\n",
            "C\n"
          ]
        }
      ]
    },
    {
      "cell_type": "code",
      "metadata": {
        "id": "other-democrat",
        "colab": {
          "base_uri": "https://localhost:8080/"
        },
        "outputId": "3ed00075-2f90-4157-851e-70f9d6ca19ff"
      },
      "source": [
        "# 딕셔너리와 데이터프레임\n",
        "dic = {'name':['김강남','양서초'], 'birth': ['1118', '0109'], 'age':[19, 20]}\n",
        "for k, v in dic.items():\n",
        "  print(k,v)\n",
        "# 딕셔너리들의 리스트 다루기 \n",
        "dic1 = [ {'name':'김강남', 'birth': '1118', 'age':19},  {'name':'양서초', 'birth': '0109', 'age': 20}]\n",
        "print(dic.keys())\n",
        "print(dic.values())\n",
        "# dic1.keys() #AttributeError: 'list' object has no attribute 'keys'\n",
        "dic1[0].keys()"
      ],
      "execution_count": 47,
      "outputs": [
        {
          "output_type": "stream",
          "name": "stdout",
          "text": [
            "name ['김강남', '양서초']\n",
            "birth ['1118', '0109']\n",
            "age [19, 20]\n",
            "dict_keys(['name', 'birth', 'age'])\n",
            "dict_values([['김강남', '양서초'], ['1118', '0109'], [19, 20]])\n"
          ]
        },
        {
          "output_type": "execute_result",
          "data": {
            "text/plain": [
              "dict_keys(['name', 'birth', 'age'])"
            ]
          },
          "metadata": {},
          "execution_count": 47
        }
      ]
    },
    {
      "cell_type": "code",
      "metadata": {
        "colab": {
          "base_uri": "https://localhost:8080/",
          "height": 164
        },
        "id": "-rRbQsPIhKDM",
        "outputId": "d04e16f9-a22a-4e9d-9a07-f24c433a1daf"
      },
      "source": [
        "# 딕셔너리를 데이터프레임으로 변환\n",
        "import pandas as pd\n",
        "df = pd.DataFrame(dic,columns = dic.keys())\n",
        "df1 = pd.DataFrame(dic1,columns = dic1[0].keys())\n",
        "print(df)\n",
        "df1"
      ],
      "execution_count": 48,
      "outputs": [
        {
          "output_type": "stream",
          "name": "stdout",
          "text": [
            "  name birth  age\n",
            "0  김강남  1118   19\n",
            "1  양서초  0109   20\n"
          ]
        },
        {
          "output_type": "execute_result",
          "data": {
            "text/html": [
              "<div>\n",
              "<style scoped>\n",
              "    .dataframe tbody tr th:only-of-type {\n",
              "        vertical-align: middle;\n",
              "    }\n",
              "\n",
              "    .dataframe tbody tr th {\n",
              "        vertical-align: top;\n",
              "    }\n",
              "\n",
              "    .dataframe thead th {\n",
              "        text-align: right;\n",
              "    }\n",
              "</style>\n",
              "<table border=\"1\" class=\"dataframe\">\n",
              "  <thead>\n",
              "    <tr style=\"text-align: right;\">\n",
              "      <th></th>\n",
              "      <th>name</th>\n",
              "      <th>birth</th>\n",
              "      <th>age</th>\n",
              "    </tr>\n",
              "  </thead>\n",
              "  <tbody>\n",
              "    <tr>\n",
              "      <th>0</th>\n",
              "      <td>김강남</td>\n",
              "      <td>1118</td>\n",
              "      <td>19</td>\n",
              "    </tr>\n",
              "    <tr>\n",
              "      <th>1</th>\n",
              "      <td>양서초</td>\n",
              "      <td>0109</td>\n",
              "      <td>20</td>\n",
              "    </tr>\n",
              "  </tbody>\n",
              "</table>\n",
              "</div>"
            ],
            "text/plain": [
              "  name birth  age\n",
              "0  김강남  1118   19\n",
              "1  양서초  0109   20"
            ]
          },
          "metadata": {},
          "execution_count": 48
        }
      ]
    },
    {
      "cell_type": "code",
      "metadata": {
        "id": "vMD-KEaKjpvj"
      },
      "source": [
        "# 데이터프레임을 csv 파일로 저장\n",
        "df.to_csv('dic.csv')"
      ],
      "execution_count": 49,
      "outputs": []
    },
    {
      "cell_type": "markdown",
      "metadata": {
        "id": "su9QwMHqlxMk"
      },
      "source": [
        "## 나.반복문, 조건문 활용"
      ]
    },
    {
      "cell_type": "code",
      "metadata": {
        "id": "B00OUbDWl2-B"
      },
      "source": [
        "f = open(\"text.txt\", 'w')\n",
        "for i in range(10):\n",
        "    data = \"%d번째 줄입니다.\\n\" % i\n",
        "    # print(data)\n",
        "    f.write(data)\n",
        "f.close()"
      ],
      "execution_count": 50,
      "outputs": []
    },
    {
      "cell_type": "code",
      "metadata": {
        "colab": {
          "base_uri": "https://localhost:8080/"
        },
        "id": "xaUD9kMWo_V8",
        "outputId": "5b57d055-93fb-43ee-e2c3-2e92b0b9558a"
      },
      "source": [
        "# 전체 라인수 확인\n",
        "count = 0\n",
        "with open('text.txt') as f:\n",
        "  for i, line in enumerate(f):\n",
        "    count += 1\n",
        "print(count)"
      ],
      "execution_count": 51,
      "outputs": [
        {
          "output_type": "stream",
          "name": "stdout",
          "text": [
            "10\n"
          ]
        }
      ]
    },
    {
      "cell_type": "code",
      "metadata": {
        "colab": {
          "base_uri": "https://localhost:8080/",
          "height": 53
        },
        "id": "oDoQJ5Mh1bNo",
        "outputId": "d9305875-5931-4fd3-8825-03ef53cfd18a"
      },
      "source": [
        "# 텍스트 파일로 읽는 경우, 라인 정보를 활용이나 escape문자 제거 어렵다.\n",
        "with open('text.txt', 'r') as f:\n",
        "  data = f.read()\n",
        "data[:100]"
      ],
      "execution_count": 52,
      "outputs": [
        {
          "output_type": "execute_result",
          "data": {
            "application/vnd.google.colaboratory.intrinsic+json": {
              "type": "string"
            },
            "text/plain": [
              "'0번째 줄입니다.\\n1번째 줄입니다.\\n2번째 줄입니다.\\n3번째 줄입니다.\\n4번째 줄입니다.\\n5번째 줄입니다.\\n6번째 줄입니다.\\n7번째 줄입니다.\\n8번째 줄입니다.\\n9번째 줄입니다.\\n'"
            ]
          },
          "metadata": {},
          "execution_count": 52
        }
      ]
    },
    {
      "cell_type": "code",
      "metadata": {
        "colab": {
          "base_uri": "https://localhost:8080/"
        },
        "id": "WCBI7IJkunoa",
        "outputId": "1e2ad285-9cca-4126-8ca0-0f6cd2274daa"
      },
      "source": [
        "# 문서의 성격 파악하기\n",
        "with open('text.txt') as f:\n",
        "  for i, line in enumerate(f):\n",
        "    if i >5:\n",
        "        break\n",
        "    line = line.strip()\n",
        "    print(i, line)"
      ],
      "execution_count": 53,
      "outputs": [
        {
          "output_type": "stream",
          "name": "stdout",
          "text": [
            "0 0번째 줄입니다.\n",
            "1 1번째 줄입니다.\n",
            "2 2번째 줄입니다.\n",
            "3 3번째 줄입니다.\n",
            "4 4번째 줄입니다.\n",
            "5 5번째 줄입니다.\n"
          ]
        }
      ]
    },
    {
      "cell_type": "code",
      "metadata": {
        "id": "97gw3Z-dwn2B"
      },
      "source": [
        "# 함수 도움말\n",
        "?enumerate"
      ],
      "execution_count": 54,
      "outputs": []
    },
    {
      "cell_type": "code",
      "metadata": {
        "colab": {
          "base_uri": "https://localhost:8080/"
        },
        "id": "DZdcLc9zwpTZ",
        "outputId": "ed07b064-0b20-49f6-ca0c-a830aa6ffb79"
      },
      "source": [
        "# 문서를 리스트로 가져오기\n",
        "with open('text.txt') as f:\n",
        "  content=[]\n",
        "  for i, line in enumerate(f):\n",
        "    # if i >5:\n",
        "    #     break\n",
        "    line = line.strip() #strip은 escape 문자 제거 \\n, \\t 등\n",
        "    # print(i, line)\n",
        "    content.append(line)\n",
        "content"
      ],
      "execution_count": 55,
      "outputs": [
        {
          "output_type": "execute_result",
          "data": {
            "text/plain": [
              "['0번째 줄입니다.',\n",
              " '1번째 줄입니다.',\n",
              " '2번째 줄입니다.',\n",
              " '3번째 줄입니다.',\n",
              " '4번째 줄입니다.',\n",
              " '5번째 줄입니다.',\n",
              " '6번째 줄입니다.',\n",
              " '7번째 줄입니다.',\n",
              " '8번째 줄입니다.',\n",
              " '9번째 줄입니다.']"
            ]
          },
          "metadata": {},
          "execution_count": 55
        }
      ]
    },
    {
      "cell_type": "markdown",
      "metadata": {
        "id": "EIqzgCr3nHje"
      },
      "source": [
        "## 다.CSV, JSON, XML 자료형태별 데이터 읽고 저장하기"
      ]
    },
    {
      "cell_type": "markdown",
      "metadata": {
        "id": "H8Ri_Y3dXbof"
      },
      "source": [
        "파이썬 CSV 패키지 참조 : https://docs.python.org/ko/3/library/csv.html"
      ]
    },
    {
      "cell_type": "code",
      "metadata": {
        "id": "bvvdl9dhnSsL"
      },
      "source": [
        "import csv    \n",
        "with open('test.csv', 'w') as f:\n",
        "  data = csv.writer(f)\n",
        "  data.writerow([\"김민국\", 15, '남자', '서울시 서대문구 신촌동'])\n",
        "  data.writerow([\"박한솔\", 30, '여자', '서울시 용산구 서빙고동'])"
      ],
      "execution_count": 56,
      "outputs": []
    },
    {
      "cell_type": "code",
      "metadata": {
        "colab": {
          "base_uri": "https://localhost:8080/"
        },
        "id": "szQ7KwVWnlAe",
        "outputId": "e80d21f8-ebc5-4fe0-fb9b-6fcb3b191c6c"
      },
      "source": [
        "import csv   \n",
        "with open('test.csv', 'r') as f:\n",
        "  data = csv.reader(f)\n",
        "  for i in data:\n",
        "      print (i)\n",
        "      # print(', '.join(row))"
      ],
      "execution_count": 57,
      "outputs": [
        {
          "output_type": "stream",
          "name": "stdout",
          "text": [
            "['김민국', '15', '남자', '서울시 서대문구 신촌동']\n",
            "['박한솔', '30', '여자', '서울시 용산구 서빙고동']\n"
          ]
        }
      ]
    },
    {
      "cell_type": "code",
      "metadata": {
        "colab": {
          "base_uri": "https://localhost:8080/"
        },
        "id": "XGB5m9fxn0MN",
        "outputId": "12cc958f-478e-41ed-d36d-be2c0dfeb6f8"
      },
      "source": [
        "# 위와 같은 문법, 객체로 저장하기\n",
        "with open(\"test.csv\", \"r\") as f:\n",
        "  data = csv.reader(f)\n",
        "  test=[]\n",
        "  for row in data:\n",
        "    test.append(row)\n",
        "test"
      ],
      "execution_count": 58,
      "outputs": [
        {
          "output_type": "execute_result",
          "data": {
            "text/plain": [
              "[['김민국', '15', '남자', '서울시 서대문구 신촌동'], ['박한솔', '30', '여자', '서울시 용산구 서빙고동']]"
            ]
          },
          "metadata": {},
          "execution_count": 58
        }
      ]
    },
    {
      "cell_type": "code",
      "metadata": {
        "colab": {
          "base_uri": "https://localhost:8080/",
          "height": 112
        },
        "id": "tR_pBPW8qBmN",
        "outputId": "31c49461-6691-4e29-967e-efdacaab6593"
      },
      "source": [
        "# csv파일을 판다스 데이터프레임으로 읽어들이기\n",
        "import pandas as pd\n",
        "colnames=['Name', 'Age', 'Gender', 'Add'] \n",
        "df = pd.read_csv('test.csv', names=colnames, header=None)\n",
        "df"
      ],
      "execution_count": 59,
      "outputs": [
        {
          "output_type": "execute_result",
          "data": {
            "text/html": [
              "<div>\n",
              "<style scoped>\n",
              "    .dataframe tbody tr th:only-of-type {\n",
              "        vertical-align: middle;\n",
              "    }\n",
              "\n",
              "    .dataframe tbody tr th {\n",
              "        vertical-align: top;\n",
              "    }\n",
              "\n",
              "    .dataframe thead th {\n",
              "        text-align: right;\n",
              "    }\n",
              "</style>\n",
              "<table border=\"1\" class=\"dataframe\">\n",
              "  <thead>\n",
              "    <tr style=\"text-align: right;\">\n",
              "      <th></th>\n",
              "      <th>Name</th>\n",
              "      <th>Age</th>\n",
              "      <th>Gender</th>\n",
              "      <th>Add</th>\n",
              "    </tr>\n",
              "  </thead>\n",
              "  <tbody>\n",
              "    <tr>\n",
              "      <th>0</th>\n",
              "      <td>김민국</td>\n",
              "      <td>15</td>\n",
              "      <td>남자</td>\n",
              "      <td>서울시 서대문구 신촌동</td>\n",
              "    </tr>\n",
              "    <tr>\n",
              "      <th>1</th>\n",
              "      <td>박한솔</td>\n",
              "      <td>30</td>\n",
              "      <td>여자</td>\n",
              "      <td>서울시 용산구 서빙고동</td>\n",
              "    </tr>\n",
              "  </tbody>\n",
              "</table>\n",
              "</div>"
            ],
            "text/plain": [
              "  Name  Age Gender           Add\n",
              "0  김민국   15     남자  서울시 서대문구 신촌동\n",
              "1  박한솔   30     여자  서울시 용산구 서빙고동"
            ]
          },
          "metadata": {},
          "execution_count": 59
        }
      ]
    },
    {
      "cell_type": "code",
      "metadata": {
        "id": "h949bHfBZpim"
      },
      "source": [
        "# 데이터 프레임을 json 파일로 저장하기\n",
        "df.to_json('test.json',orient=\"columns\")"
      ],
      "execution_count": 60,
      "outputs": []
    },
    {
      "cell_type": "markdown",
      "metadata": {
        "id": "XURJUr-UYkZt"
      },
      "source": [
        "json패키지 참조 : https://docs.python.org/ko/3/library/json.html"
      ]
    },
    {
      "cell_type": "code",
      "metadata": {
        "colab": {
          "base_uri": "https://localhost:8080/",
          "height": 112
        },
        "id": "0X5feKeZqUmn",
        "outputId": "a44dc5d6-924e-432d-f3a8-dcf5149c21f4"
      },
      "source": [
        "# json 파일 읽어들여 판다스 데이터프레임으로 변환\n",
        "import json\n",
        "import pandas as pd\n",
        "# json을 읽어들이기\n",
        "info = open('test.json').read()\n",
        "data = json.loads(info) \n",
        "# print(data)\n",
        "df = pd.DataFrame(data)\n",
        "df"
      ],
      "execution_count": 61,
      "outputs": [
        {
          "output_type": "execute_result",
          "data": {
            "text/html": [
              "<div>\n",
              "<style scoped>\n",
              "    .dataframe tbody tr th:only-of-type {\n",
              "        vertical-align: middle;\n",
              "    }\n",
              "\n",
              "    .dataframe tbody tr th {\n",
              "        vertical-align: top;\n",
              "    }\n",
              "\n",
              "    .dataframe thead th {\n",
              "        text-align: right;\n",
              "    }\n",
              "</style>\n",
              "<table border=\"1\" class=\"dataframe\">\n",
              "  <thead>\n",
              "    <tr style=\"text-align: right;\">\n",
              "      <th></th>\n",
              "      <th>Name</th>\n",
              "      <th>Age</th>\n",
              "      <th>Gender</th>\n",
              "      <th>Add</th>\n",
              "    </tr>\n",
              "  </thead>\n",
              "  <tbody>\n",
              "    <tr>\n",
              "      <th>0</th>\n",
              "      <td>김민국</td>\n",
              "      <td>15</td>\n",
              "      <td>남자</td>\n",
              "      <td>서울시 서대문구 신촌동</td>\n",
              "    </tr>\n",
              "    <tr>\n",
              "      <th>1</th>\n",
              "      <td>박한솔</td>\n",
              "      <td>30</td>\n",
              "      <td>여자</td>\n",
              "      <td>서울시 용산구 서빙고동</td>\n",
              "    </tr>\n",
              "  </tbody>\n",
              "</table>\n",
              "</div>"
            ],
            "text/plain": [
              "  Name  Age Gender           Add\n",
              "0  김민국   15     남자  서울시 서대문구 신촌동\n",
              "1  박한솔   30     여자  서울시 용산구 서빙고동"
            ]
          },
          "metadata": {},
          "execution_count": 61
        }
      ]
    },
    {
      "cell_type": "markdown",
      "metadata": {
        "id": "kznfa8S_YQRV"
      },
      "source": [
        "XML 패키지참조 : https://docs.python.org/ko/3/library/xml.etree.elementtree.html"
      ]
    },
    {
      "cell_type": "code",
      "metadata": {
        "colab": {
          "base_uri": "https://localhost:8080/"
        },
        "id": "vtLT82gabKKp",
        "outputId": "f68b1315-d840-4fa8-d19c-cd315af96a5d"
      },
      "source": [
        "%%writefile test.xml\n",
        "<?xml version=\"1.0\" encoding=\"utf-8\"?>\n",
        "<world>\n",
        "\t<people name='김민국'>\n",
        "\t\t<age>15</age>\n",
        "\t\t<tall>183cm</tall>\n",
        "\t\t<add>'서울시 서대문구'</add>\n",
        "\t</people>\n",
        "\t<people name='박한솔' >\n",
        "\t\t<age>30</age>\n",
        "\t\t<tall>175cm</tall>\n",
        "\t\t<add>'서울시 용산구'</add>\n",
        "\t</people>\n",
        "</world>"
      ],
      "execution_count": 62,
      "outputs": [
        {
          "output_type": "stream",
          "name": "stdout",
          "text": [
            "Overwriting test.xml\n"
          ]
        }
      ]
    },
    {
      "cell_type": "code",
      "metadata": {
        "colab": {
          "base_uri": "https://localhost:8080/",
          "height": 112
        },
        "id": "O_uALpYLV2Vt",
        "outputId": "8db3ea6d-25c9-43cb-e9c9-5ec70cce5d1d"
      },
      "source": [
        "import pandas as pd \n",
        "import xml.etree.ElementTree as ET\n",
        "mytree = ET.parse('test.xml')\n",
        "root = mytree.getroot()\n",
        "# print(root.tag)\n",
        "df_cols=['Name','Age', 'Tall','Add']\n",
        "rows=[]\n",
        "for node in root:\n",
        "   s_name=node.attrib.get(\"name\")\n",
        "   s_age=node.find(\"age\").text if node is not None else None\n",
        "   s_tall=node.find(\"tall\").text if node is not None else None\n",
        "   s_add=node.find(\"add\").text if node is not None else None\n",
        "   rows.append({\"Name\":s_name, \"Age\":s_age, 'Tall':s_tall, \"Add\" : s_add})\n",
        "\n",
        "df=pd.DataFrame(rows,columns=df_cols) \n",
        "df\n"
      ],
      "execution_count": 63,
      "outputs": [
        {
          "output_type": "execute_result",
          "data": {
            "text/html": [
              "<div>\n",
              "<style scoped>\n",
              "    .dataframe tbody tr th:only-of-type {\n",
              "        vertical-align: middle;\n",
              "    }\n",
              "\n",
              "    .dataframe tbody tr th {\n",
              "        vertical-align: top;\n",
              "    }\n",
              "\n",
              "    .dataframe thead th {\n",
              "        text-align: right;\n",
              "    }\n",
              "</style>\n",
              "<table border=\"1\" class=\"dataframe\">\n",
              "  <thead>\n",
              "    <tr style=\"text-align: right;\">\n",
              "      <th></th>\n",
              "      <th>Name</th>\n",
              "      <th>Age</th>\n",
              "      <th>Tall</th>\n",
              "      <th>Add</th>\n",
              "    </tr>\n",
              "  </thead>\n",
              "  <tbody>\n",
              "    <tr>\n",
              "      <th>0</th>\n",
              "      <td>김민국</td>\n",
              "      <td>15</td>\n",
              "      <td>183cm</td>\n",
              "      <td>'서울시 서대문구'</td>\n",
              "    </tr>\n",
              "    <tr>\n",
              "      <th>1</th>\n",
              "      <td>박한솔</td>\n",
              "      <td>30</td>\n",
              "      <td>175cm</td>\n",
              "      <td>'서울시 용산구'</td>\n",
              "    </tr>\n",
              "  </tbody>\n",
              "</table>\n",
              "</div>"
            ],
            "text/plain": [
              "  Name Age   Tall         Add\n",
              "0  김민국  15  183cm  '서울시 서대문구'\n",
              "1  박한솔  30  175cm   '서울시 용산구'"
            ]
          },
          "metadata": {},
          "execution_count": 63
        }
      ]
    },
    {
      "cell_type": "code",
      "metadata": {
        "id": "j-Si67vt0QVy"
      },
      "source": [
        ""
      ],
      "execution_count": 63,
      "outputs": []
    }
  ]
}