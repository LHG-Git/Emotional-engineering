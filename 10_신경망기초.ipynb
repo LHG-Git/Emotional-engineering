{
  "nbformat": 4,
  "nbformat_minor": 0,
  "metadata": {
    "colab": {
      "name": "10_신경망기초.ipynb",
      "provenance": [],
      "collapsed_sections": []
    },
    "kernelspec": {
      "display_name": "Python 3",
      "name": "python3"
    }
  },
  "cells": [
    {
      "cell_type": "markdown",
      "metadata": {
        "id": "3wF5wszaj97Y"
      },
      "source": [
        "# 신경망 기초 "
      ]
    },
    {
      "cell_type": "markdown",
      "metadata": {
        "id": "eFZEQWjJNHw-"
      },
      "source": [
        ""
      ]
    },
    {
      "cell_type": "markdown",
      "metadata": {
        "id": "KNsBGQ4ijsr_"
      },
      "source": [
        "참고 사이트 : https://www.tensorflow.org/tutorials?hl=ko"
      ]
    },
    {
      "cell_type": "code",
      "metadata": {
        "id": "0trJmd6DjqBZ"
      },
      "source": [
        "# 필요한 라이브러리 import \n",
        "import tensorflow as tf\n",
        "from tensorflow import keras\n",
        "import numpy as np\n",
        "import pandas as pd\n",
        "import matplotlib.pyplot as plt\n",
        "from sklearn.model_selection import train_test_split"
      ],
      "execution_count": 1,
      "outputs": []
    },
    {
      "cell_type": "markdown",
      "metadata": {
        "id": "ICXPevlk46Rg"
      },
      "source": [
        "# 데이터 준비"
      ]
    },
    {
      "cell_type": "code",
      "metadata": {
        "id": "IeFc9u60bkt_"
      },
      "source": [
        "n = 20000\n",
        "ts = 4000\n",
        "vs =4000"
      ],
      "execution_count": 2,
      "outputs": []
    },
    {
      "cell_type": "code",
      "metadata": {
        "id": "_ErM3nArZwvf"
      },
      "source": [
        "# 균일분포(0,2)에서 랜덤넘버를 생성하여 1.2 이상과 이하로 이진 분류데이터 생성  \n",
        "x = np.random.uniform(0,2, n)\n",
        "y=[]\n",
        "for i in x:\n",
        "  if i >1.2:\n",
        "    y.append(1)\n",
        "  else :\n",
        "    y.append(0)\n"
      ],
      "execution_count": 3,
      "outputs": []
    },
    {
      "cell_type": "code",
      "metadata": {
        "colab": {
          "base_uri": "https://localhost:8080/",
          "height": 423
        },
        "id": "UyNAgJ_-arIj",
        "outputId": "b25229dd-f841-4687-9488-3875f18e02e7"
      },
      "source": [
        "# 데이터에 대한 라벨 확인\n",
        "df = pd.DataFrame(x)\n",
        "df['class'] = y\n",
        "df"
      ],
      "execution_count": 4,
      "outputs": [
        {
          "output_type": "execute_result",
          "data": {
            "text/html": [
              "<div>\n",
              "<style scoped>\n",
              "    .dataframe tbody tr th:only-of-type {\n",
              "        vertical-align: middle;\n",
              "    }\n",
              "\n",
              "    .dataframe tbody tr th {\n",
              "        vertical-align: top;\n",
              "    }\n",
              "\n",
              "    .dataframe thead th {\n",
              "        text-align: right;\n",
              "    }\n",
              "</style>\n",
              "<table border=\"1\" class=\"dataframe\">\n",
              "  <thead>\n",
              "    <tr style=\"text-align: right;\">\n",
              "      <th></th>\n",
              "      <th>0</th>\n",
              "      <th>class</th>\n",
              "    </tr>\n",
              "  </thead>\n",
              "  <tbody>\n",
              "    <tr>\n",
              "      <th>0</th>\n",
              "      <td>0.008470</td>\n",
              "      <td>0</td>\n",
              "    </tr>\n",
              "    <tr>\n",
              "      <th>1</th>\n",
              "      <td>0.181231</td>\n",
              "      <td>0</td>\n",
              "    </tr>\n",
              "    <tr>\n",
              "      <th>2</th>\n",
              "      <td>1.414140</td>\n",
              "      <td>1</td>\n",
              "    </tr>\n",
              "    <tr>\n",
              "      <th>3</th>\n",
              "      <td>1.282573</td>\n",
              "      <td>1</td>\n",
              "    </tr>\n",
              "    <tr>\n",
              "      <th>4</th>\n",
              "      <td>0.602359</td>\n",
              "      <td>0</td>\n",
              "    </tr>\n",
              "    <tr>\n",
              "      <th>...</th>\n",
              "      <td>...</td>\n",
              "      <td>...</td>\n",
              "    </tr>\n",
              "    <tr>\n",
              "      <th>19995</th>\n",
              "      <td>0.978220</td>\n",
              "      <td>0</td>\n",
              "    </tr>\n",
              "    <tr>\n",
              "      <th>19996</th>\n",
              "      <td>0.161711</td>\n",
              "      <td>0</td>\n",
              "    </tr>\n",
              "    <tr>\n",
              "      <th>19997</th>\n",
              "      <td>1.225457</td>\n",
              "      <td>1</td>\n",
              "    </tr>\n",
              "    <tr>\n",
              "      <th>19998</th>\n",
              "      <td>1.776596</td>\n",
              "      <td>1</td>\n",
              "    </tr>\n",
              "    <tr>\n",
              "      <th>19999</th>\n",
              "      <td>0.172343</td>\n",
              "      <td>0</td>\n",
              "    </tr>\n",
              "  </tbody>\n",
              "</table>\n",
              "<p>20000 rows × 2 columns</p>\n",
              "</div>"
            ],
            "text/plain": [
              "              0  class\n",
              "0      0.008470      0\n",
              "1      0.181231      0\n",
              "2      1.414140      1\n",
              "3      1.282573      1\n",
              "4      0.602359      0\n",
              "...         ...    ...\n",
              "19995  0.978220      0\n",
              "19996  0.161711      0\n",
              "19997  1.225457      1\n",
              "19998  1.776596      1\n",
              "19999  0.172343      0\n",
              "\n",
              "[20000 rows x 2 columns]"
            ]
          },
          "metadata": {},
          "execution_count": 4
        }
      ]
    },
    {
      "cell_type": "code",
      "metadata": {
        "colab": {
          "base_uri": "https://localhost:8080/",
          "height": 279
        },
        "id": "8CVlZJcBkTlc",
        "outputId": "b38146df-28e7-4305-d9ea-8d82e4c8903d"
      },
      "source": [
        "plt.scatter(x, y, marker='o', c=y, s=100, edgecolor=\"k\", linewidth=2)\n",
        "plt.xlabel(\"x\")\n",
        "plt.ylabel(\"y\")\n",
        "plt.show()"
      ],
      "execution_count": 5,
      "outputs": [
        {
          "output_type": "display_data",
          "data": {
            "image/png": "[encoded data removed]",
            "text/plain": [
              "<Figure size 432x288 with 1 Axes>"
            ]
          },
          "metadata": {
            "needs_background": "light"
          }
        }
      ]
    },
    {
      "cell_type": "code",
      "metadata": {
        "colab": {
          "base_uri": "https://localhost:8080/"
        },
        "id": "RKwchPUhlKGH",
        "outputId": "7a65b515-5b1a-414c-d20f-6a5017d4e7c7"
      },
      "source": [
        "# train, test, validataion data로 분리 , 20000개의 데이터를 ts, vs 사이즈 4000개씩 분리 \n",
        "train_df, test_df = train_test_split(df, test_size=ts,random_state=123)\n",
        "train_df, val_df = train_test_split(train_df, test_size=vs,random_state=123)\n",
        "len(train_df)"
      ],
      "execution_count": 6,
      "outputs": [
        {
          "output_type": "execute_result",
          "data": {
            "text/plain": [
              "12000"
            ]
          },
          "metadata": {},
          "execution_count": 6
        }
      ]
    },
    {
      "cell_type": "code",
      "metadata": {
        "id": "xKD8PCEA0dcA",
        "colab": {
          "base_uri": "https://localhost:8080/",
          "height": 283
        },
        "outputId": "d2a3aca8-a650-4cfc-9720-a1da8201f239"
      },
      "source": [
        "train_df['class'].hist()"
      ],
      "execution_count": 13,
      "outputs": [
        {
          "output_type": "execute_result",
          "data": {
            "text/plain": [
              "<matplotlib.axes._subplots.AxesSubplot at 0x7fa06b707d90>"
            ]
          },
          "metadata": {},
          "execution_count": 13
        },
        {
          "output_type": "display_data",
          "data": {
            "image/png": "[encoded data removed]",
            "text/plain": [
              "<Figure size 432x288 with 1 Axes>"
            ]
          },
          "metadata": {
            "needs_background": "light"
          }
        }
      ]
    },
    {
      "cell_type": "code",
      "metadata": {
        "colab": {
          "base_uri": "https://localhost:8080/",
          "height": 112
        },
        "id": "OIrQaJxhQR_d",
        "outputId": "2777039d-47f3-4cce-f5db-f340fb464d0d"
      },
      "source": [
        "train_df[:2]"
      ],
      "execution_count": 14,
      "outputs": [
        {
          "output_type": "execute_result",
          "data": {
            "text/html": [
              "<div>\n",
              "<style scoped>\n",
              "    .dataframe tbody tr th:only-of-type {\n",
              "        vertical-align: middle;\n",
              "    }\n",
              "\n",
              "    .dataframe tbody tr th {\n",
              "        vertical-align: top;\n",
              "    }\n",
              "\n",
              "    .dataframe thead th {\n",
              "        text-align: right;\n",
              "    }\n",
              "</style>\n",
              "<table border=\"1\" class=\"dataframe\">\n",
              "  <thead>\n",
              "    <tr style=\"text-align: right;\">\n",
              "      <th></th>\n",
              "      <th>0</th>\n",
              "      <th>class</th>\n",
              "    </tr>\n",
              "  </thead>\n",
              "  <tbody>\n",
              "    <tr>\n",
              "      <th>7157</th>\n",
              "      <td>1.184484</td>\n",
              "      <td>0</td>\n",
              "    </tr>\n",
              "    <tr>\n",
              "      <th>5644</th>\n",
              "      <td>1.388846</td>\n",
              "      <td>1</td>\n",
              "    </tr>\n",
              "  </tbody>\n",
              "</table>\n",
              "</div>"
            ],
            "text/plain": [
              "             0  class\n",
              "7157  1.184484      0\n",
              "5644  1.388846      1"
            ]
          },
          "metadata": {},
          "execution_count": 14
        }
      ]
    },
    {
      "cell_type": "markdown",
      "metadata": {
        "id": "RIBunb2a49uA"
      },
      "source": [
        "# 모델링"
      ]
    },
    {
      "cell_type": "code",
      "metadata": {
        "id": "7FP5258xjs-v",
        "colab": {
          "base_uri": "https://localhost:8080/",
          "height": 423
        },
        "outputId": "5aba8c31-55cd-4a41-d355-58ac51c175e6"
      },
      "source": [
        "# 입력데이터로 정리  \n",
        "y_train = train_df.pop('class')\n",
        "x_train = train_df\n",
        "y_test = test_df.pop('class')\n",
        "x_test = test_df\n",
        "y_val = val_df.pop('class')\n",
        "x_val = val_df\n",
        "x_train"
      ],
      "execution_count": 15,
      "outputs": [
        {
          "output_type": "execute_result",
          "data": {
            "text/html": [
              "<div>\n",
              "<style scoped>\n",
              "    .dataframe tbody tr th:only-of-type {\n",
              "        vertical-align: middle;\n",
              "    }\n",
              "\n",
              "    .dataframe tbody tr th {\n",
              "        vertical-align: top;\n",
              "    }\n",
              "\n",
              "    .dataframe thead th {\n",
              "        text-align: right;\n",
              "    }\n",
              "</style>\n",
              "<table border=\"1\" class=\"dataframe\">\n",
              "  <thead>\n",
              "    <tr style=\"text-align: right;\">\n",
              "      <th></th>\n",
              "      <th>0</th>\n",
              "    </tr>\n",
              "  </thead>\n",
              "  <tbody>\n",
              "    <tr>\n",
              "      <th>7157</th>\n",
              "      <td>1.184484</td>\n",
              "    </tr>\n",
              "    <tr>\n",
              "      <th>5644</th>\n",
              "      <td>1.388846</td>\n",
              "    </tr>\n",
              "    <tr>\n",
              "      <th>12598</th>\n",
              "      <td>0.593266</td>\n",
              "    </tr>\n",
              "    <tr>\n",
              "      <th>10253</th>\n",
              "      <td>0.767981</td>\n",
              "    </tr>\n",
              "    <tr>\n",
              "      <th>7711</th>\n",
              "      <td>0.654824</td>\n",
              "    </tr>\n",
              "    <tr>\n",
              "      <th>...</th>\n",
              "      <td>...</td>\n",
              "    </tr>\n",
              "    <tr>\n",
              "      <th>15338</th>\n",
              "      <td>1.464801</td>\n",
              "    </tr>\n",
              "    <tr>\n",
              "      <th>9363</th>\n",
              "      <td>1.252473</td>\n",
              "    </tr>\n",
              "    <tr>\n",
              "      <th>13724</th>\n",
              "      <td>0.753752</td>\n",
              "    </tr>\n",
              "    <tr>\n",
              "      <th>13954</th>\n",
              "      <td>0.636503</td>\n",
              "    </tr>\n",
              "    <tr>\n",
              "      <th>9757</th>\n",
              "      <td>1.121761</td>\n",
              "    </tr>\n",
              "  </tbody>\n",
              "</table>\n",
              "<p>12000 rows × 1 columns</p>\n",
              "</div>"
            ],
            "text/plain": [
              "              0\n",
              "7157   1.184484\n",
              "5644   1.388846\n",
              "12598  0.593266\n",
              "10253  0.767981\n",
              "7711   0.654824\n",
              "...         ...\n",
              "15338  1.464801\n",
              "9363   1.252473\n",
              "13724  0.753752\n",
              "13954  0.636503\n",
              "9757   1.121761\n",
              "\n",
              "[12000 rows x 1 columns]"
            ]
          },
          "metadata": {},
          "execution_count": 15
        }
      ]
    },
    {
      "cell_type": "code",
      "metadata": {
        "id": "RBEom0thYpaY",
        "colab": {
          "base_uri": "https://localhost:8080/"
        },
        "outputId": "edbe06ed-cec2-4b04-ecb7-5f1f891be301"
      },
      "source": [
        "# input_shape, 입력변수의 개수 확인 \n",
        "train_features = np.array(train_df)\n",
        "train_features.shape[-1]"
      ],
      "execution_count": 16,
      "outputs": [
        {
          "output_type": "execute_result",
          "data": {
            "text/plain": [
              "1"
            ]
          },
          "metadata": {},
          "execution_count": 16
        }
      ]
    },
    {
      "cell_type": "code",
      "metadata": {
        "id": "h3IKyzTCDNGo"
      },
      "source": [
        "# 다층의 layer를 쌓아서 모델링, 훈련에 사용할 옵티마이저(optimizer)와 손실 함수를 선택 \n",
        "model = keras.models.Sequential()\n",
        "model.add(keras.layers.Dense(16, activation='relu', input_shape=(train_features.shape[-1],)))\n",
        "model.add(keras.layers.Dense(16, activation='relu'))\n",
        "model.add(keras.layers.Dropout(0.5))\n",
        "model.add(keras.layers.Dense(1, activation='sigmoid'))\n",
        "\n",
        "model.compile(optimizer='adam',\n",
        "              loss='binary_crossentropy',\n",
        "              metrics=['accuracy'])"
      ],
      "execution_count": 17,
      "outputs": []
    },
    {
      "cell_type": "code",
      "metadata": {
        "colab": {
          "base_uri": "https://localhost:8080/"
        },
        "id": "9rErPi3v8Gtq",
        "outputId": "d687c978-82df-4271-847b-ebb7ced393d8"
      },
      "source": [
        "#모델 요약해서 보기\n",
        "model.summary()"
      ],
      "execution_count": 18,
      "outputs": [
        {
          "output_type": "stream",
          "name": "stdout",
          "text": [
            "Model: \"sequential\"\n",
            "_________________________________________________________________\n",
            " Layer (type)                Output Shape              Param #   \n",
            "=================================================================\n",
            " dense (Dense)               (None, 16)                32        \n",
            "                                                                 \n",
            " dense_1 (Dense)             (None, 16)                272       \n",
            "                                                                 \n",
            " dropout (Dropout)           (None, 16)                0         \n",
            "                                                                 \n",
            " dense_2 (Dense)             (None, 1)                 17        \n",
            "                                                                 \n",
            "=================================================================\n",
            "Total params: 321\n",
            "Trainable params: 321\n",
            "Non-trainable params: 0\n",
            "_________________________________________________________________\n"
          ]
        }
      ]
    },
    {
      "cell_type": "code",
      "metadata": {
        "colab": {
          "base_uri": "https://localhost:8080/",
          "height": 533
        },
        "id": "043rHBd59Ozm",
        "outputId": "e8873bd6-7b3d-40ff-cce5-04fbb15d88e7"
      },
      "source": [
        "tf.keras.utils.plot_model(model, 'model.png', show_shapes=True)"
      ],
      "execution_count": 19,
      "outputs": [
        {
          "output_type": "execute_result",
          "data": {
            "image/png": "[encoded data removed]",
            "text/plain": [
              "<IPython.core.display.Image object>"
            ]
          },
          "metadata": {},
          "execution_count": 19
        }
      ]
    },
    {
      "cell_type": "markdown",
      "metadata": {
        "id": "a07i9aro5BT5"
      },
      "source": [
        "# Training"
      ]
    },
    {
      "cell_type": "code",
      "metadata": {
        "id": "D2HaP_KM-uDA"
      },
      "source": [
        "# 모델 저장 설정\n",
        "save_weights = tf.keras.callbacks.ModelCheckpoint(\"model.hdf5\",\n",
        "                                                  monitor='val_accuracy',\n",
        "                                                  verbose=1,\n",
        "                                                  save_best_only=True,\n",
        "                                                  mode=\"max\",\n",
        "                                                  save_freq=\"epoch\",\n",
        "                                                  save_weights_only=True)"
      ],
      "execution_count": 20,
      "outputs": []
    },
    {
      "cell_type": "code",
      "metadata": {
        "id": "F7dTAzgHDUh7",
        "colab": {
          "base_uri": "https://localhost:8080/"
        },
        "outputId": "ea87ae67-a8af-443d-9029-7744a194ce26"
      },
      "source": [
        "# 모델 학습 및 필요 데이터 저장 \n",
        "history = model.fit(x_train, y_train, validation_data=(x_val, y_val) ,\n",
        "                    epochs=40, \n",
        "                    batch_size=256,\n",
        "                    callbacks=[save_weights])"
      ],
      "execution_count": 21,
      "outputs": [
        {
          "output_type": "stream",
          "name": "stdout",
          "text": [
            "Epoch 1/40\n",
            "29/47 [=================>............] - ETA: 0s - loss: 0.6894 - accuracy: 0.6272 \n",
            "Epoch 00001: val_accuracy improved from -inf to 0.97425, saving model to model.hdf5\n",
            "47/47 [==============================] - 1s 8ms/step - loss: 0.6766 - accuracy: 0.6581 - val_loss: 0.6386 - val_accuracy: 0.9743\n",
            "Epoch 2/40\n",
            "32/47 [===================>..........] - ETA: 0s - loss: 0.6098 - accuracy: 0.7565\n",
            "Epoch 00002: val_accuracy did not improve from 0.97425\n",
            "47/47 [==============================] - 0s 2ms/step - loss: 0.5962 - accuracy: 0.7722 - val_loss: 0.5399 - val_accuracy: 0.9703\n",
            "Epoch 3/40\n",
            "31/47 [==================>...........] - ETA: 0s - loss: 0.5195 - accuracy: 0.8285\n",
            "Epoch 00003: val_accuracy improved from 0.97425 to 0.99175, saving model to model.hdf5\n",
            "47/47 [==============================] - 0s 3ms/step - loss: 0.5063 - accuracy: 0.8343 - val_loss: 0.4409 - val_accuracy: 0.9918\n",
            "Epoch 4/40\n",
            "27/47 [================>.............] - ETA: 0s - loss: 0.4382 - accuracy: 0.8656\n",
            "Epoch 00004: val_accuracy improved from 0.99175 to 0.99875, saving model to model.hdf5\n",
            "47/47 [==============================] - 0s 3ms/step - loss: 0.4218 - accuracy: 0.8661 - val_loss: 0.3466 - val_accuracy: 0.9987\n",
            "Epoch 5/40\n",
            "30/47 [==================>...........] - ETA: 0s - loss: 0.3607 - accuracy: 0.8832\n",
            "Epoch 00005: val_accuracy did not improve from 0.99875\n",
            "47/47 [==============================] - 0s 3ms/step - loss: 0.3512 - accuracy: 0.8823 - val_loss: 0.2717 - val_accuracy: 0.9908\n",
            "Epoch 6/40\n",
            "27/47 [================>.............] - ETA: 0s - loss: 0.3015 - accuracy: 0.8932\n",
            "Epoch 00006: val_accuracy did not improve from 0.99875\n",
            "47/47 [==============================] - 0s 3ms/step - loss: 0.2952 - accuracy: 0.8921 - val_loss: 0.2167 - val_accuracy: 0.9962\n",
            "Epoch 7/40\n",
            "24/47 [==============>...............] - ETA: 0s - loss: 0.2678 - accuracy: 0.8958\n",
            "Epoch 00007: val_accuracy did not improve from 0.99875\n",
            "47/47 [==============================] - 0s 3ms/step - loss: 0.2571 - accuracy: 0.8994 - val_loss: 0.1790 - val_accuracy: 0.9980\n",
            "Epoch 8/40\n",
            "26/47 [===============>..............] - ETA: 0s - loss: 0.2365 - accuracy: 0.8980\n",
            "Epoch 00008: val_accuracy did not improve from 0.99875\n",
            "47/47 [==============================] - 0s 3ms/step - loss: 0.2297 - accuracy: 0.9030 - val_loss: 0.1518 - val_accuracy: 0.9987\n",
            "Epoch 9/40\n",
            "29/47 [=================>............] - ETA: 0s - loss: 0.2039 - accuracy: 0.9133\n",
            "Epoch 00009: val_accuracy did not improve from 0.99875\n",
            "47/47 [==============================] - 0s 3ms/step - loss: 0.2019 - accuracy: 0.9127 - val_loss: 0.1288 - val_accuracy: 0.9987\n",
            "Epoch 10/40\n",
            "28/47 [================>.............] - ETA: 0s - loss: 0.1944 - accuracy: 0.9086\n",
            "Epoch 00010: val_accuracy improved from 0.99875 to 1.00000, saving model to model.hdf5\n",
            "47/47 [==============================] - 0s 3ms/step - loss: 0.1865 - accuracy: 0.9129 - val_loss: 0.1134 - val_accuracy: 1.0000\n",
            "Epoch 11/40\n",
            "22/47 [=============>................] - ETA: 0s - loss: 0.1789 - accuracy: 0.9160\n",
            "Epoch 00011: val_accuracy did not improve from 1.00000\n",
            "47/47 [==============================] - 0s 3ms/step - loss: 0.1731 - accuracy: 0.9183 - val_loss: 0.1016 - val_accuracy: 0.9992\n",
            "Epoch 12/40\n",
            "28/47 [================>.............] - ETA: 0s - loss: 0.1621 - accuracy: 0.9194\n",
            "Epoch 00012: val_accuracy did not improve from 1.00000\n",
            "47/47 [==============================] - 0s 3ms/step - loss: 0.1609 - accuracy: 0.9196 - val_loss: 0.0905 - val_accuracy: 0.9987\n",
            "Epoch 13/40\n",
            "28/47 [================>.............] - ETA: 0s - loss: 0.1516 - accuracy: 0.9227\n",
            "Epoch 00013: val_accuracy did not improve from 1.00000\n",
            "47/47 [==============================] - 0s 3ms/step - loss: 0.1487 - accuracy: 0.9229 - val_loss: 0.0814 - val_accuracy: 0.9998\n",
            "Epoch 14/40\n",
            "25/47 [==============>...............] - ETA: 0s - loss: 0.1428 - accuracy: 0.9242\n",
            "Epoch 00014: val_accuracy did not improve from 1.00000\n",
            "47/47 [==============================] - 0s 3ms/step - loss: 0.1400 - accuracy: 0.9254 - val_loss: 0.0746 - val_accuracy: 0.9977\n",
            "Epoch 15/40\n",
            "28/47 [================>.............] - ETA: 0s - loss: 0.1303 - accuracy: 0.9284\n",
            "Epoch 00015: val_accuracy did not improve from 1.00000\n",
            "47/47 [==============================] - 0s 3ms/step - loss: 0.1315 - accuracy: 0.9274 - val_loss: 0.0687 - val_accuracy: 1.0000\n",
            "Epoch 16/40\n",
            "26/47 [===============>..............] - ETA: 0s - loss: 0.1224 - accuracy: 0.9297\n",
            "Epoch 00016: val_accuracy did not improve from 1.00000\n",
            "47/47 [==============================] - 0s 3ms/step - loss: 0.1230 - accuracy: 0.9282 - val_loss: 0.0637 - val_accuracy: 0.9987\n",
            "Epoch 17/40\n",
            "28/47 [================>.............] - ETA: 0s - loss: 0.1194 - accuracy: 0.9298\n",
            "Epoch 00017: val_accuracy did not improve from 1.00000\n",
            "47/47 [==============================] - 0s 3ms/step - loss: 0.1162 - accuracy: 0.9398 - val_loss: 0.0596 - val_accuracy: 0.9962\n",
            "Epoch 18/40\n",
            "28/47 [================>.............] - ETA: 0s - loss: 0.1127 - accuracy: 0.9690\n",
            "Epoch 00018: val_accuracy did not improve from 1.00000\n",
            "47/47 [==============================] - 0s 3ms/step - loss: 0.1100 - accuracy: 0.9700 - val_loss: 0.0553 - val_accuracy: 0.9983\n",
            "Epoch 19/40\n",
            "25/47 [==============>...............] - ETA: 0s - loss: 0.1117 - accuracy: 0.9708\n",
            "Epoch 00019: val_accuracy did not improve from 1.00000\n",
            "47/47 [==============================] - 0s 3ms/step - loss: 0.1095 - accuracy: 0.9715 - val_loss: 0.0528 - val_accuracy: 0.9998\n",
            "Epoch 20/40\n",
            "28/47 [================>.............] - ETA: 0s - loss: 0.1010 - accuracy: 0.9760\n",
            "Epoch 00020: val_accuracy did not improve from 1.00000\n",
            "47/47 [==============================] - 0s 4ms/step - loss: 0.1023 - accuracy: 0.9749 - val_loss: 0.0495 - val_accuracy: 0.9998\n",
            "Epoch 21/40\n",
            "28/47 [================>.............] - ETA: 0s - loss: 0.0965 - accuracy: 0.9775\n",
            "Epoch 00021: val_accuracy did not improve from 1.00000\n",
            "47/47 [==============================] - 0s 3ms/step - loss: 0.0960 - accuracy: 0.9773 - val_loss: 0.0462 - val_accuracy: 0.9998\n",
            "Epoch 22/40\n",
            "29/47 [=================>............] - ETA: 0s - loss: 0.0959 - accuracy: 0.9743\n",
            "Epoch 00022: val_accuracy did not improve from 1.00000\n",
            "47/47 [==============================] - 0s 3ms/step - loss: 0.0925 - accuracy: 0.9760 - val_loss: 0.0441 - val_accuracy: 0.9990\n",
            "Epoch 23/40\n",
            "28/47 [================>.............] - ETA: 0s - loss: 0.0922 - accuracy: 0.9775\n",
            "Epoch 00023: val_accuracy did not improve from 1.00000\n",
            "47/47 [==============================] - 0s 3ms/step - loss: 0.0901 - accuracy: 0.9783 - val_loss: 0.0420 - val_accuracy: 0.9965\n",
            "Epoch 24/40\n",
            "31/47 [==================>...........] - ETA: 0s - loss: 0.0902 - accuracy: 0.9759\n",
            "Epoch 00024: val_accuracy did not improve from 1.00000\n",
            "47/47 [==============================] - 0s 3ms/step - loss: 0.0908 - accuracy: 0.9759 - val_loss: 0.0419 - val_accuracy: 0.9918\n",
            "Epoch 25/40\n",
            "31/47 [==================>...........] - ETA: 0s - loss: 0.0838 - accuracy: 0.9791\n",
            "Epoch 00025: val_accuracy did not improve from 1.00000\n",
            "47/47 [==============================] - 0s 3ms/step - loss: 0.0853 - accuracy: 0.9783 - val_loss: 0.0386 - val_accuracy: 0.9992\n",
            "Epoch 26/40\n",
            "30/47 [==================>...........] - ETA: 0s - loss: 0.0853 - accuracy: 0.9789\n",
            "Epoch 00026: val_accuracy did not improve from 1.00000\n",
            "47/47 [==============================] - 0s 3ms/step - loss: 0.0814 - accuracy: 0.9815 - val_loss: 0.0382 - val_accuracy: 0.9918\n",
            "Epoch 27/40\n",
            "29/47 [=================>............] - ETA: 0s - loss: 0.0799 - accuracy: 0.9806\n",
            "Epoch 00027: val_accuracy did not improve from 1.00000\n",
            "47/47 [==============================] - 0s 3ms/step - loss: 0.0790 - accuracy: 0.9811 - val_loss: 0.0359 - val_accuracy: 0.9962\n",
            "Epoch 28/40\n",
            "47/47 [==============================] - ETA: 0s - loss: 0.0768 - accuracy: 0.9816\n",
            "Epoch 00028: val_accuracy did not improve from 1.00000\n",
            "47/47 [==============================] - 0s 3ms/step - loss: 0.0768 - accuracy: 0.9816 - val_loss: 0.0347 - val_accuracy: 0.9980\n",
            "Epoch 29/40\n",
            "33/47 [====================>.........] - ETA: 0s - loss: 0.0765 - accuracy: 0.9817\n",
            "Epoch 00029: val_accuracy did not improve from 1.00000\n",
            "47/47 [==============================] - 0s 3ms/step - loss: 0.0753 - accuracy: 0.9827 - val_loss: 0.0332 - val_accuracy: 0.9995\n",
            "Epoch 30/40\n",
            "31/47 [==================>...........] - ETA: 0s - loss: 0.0770 - accuracy: 0.9824\n",
            "Epoch 00030: val_accuracy did not improve from 1.00000\n",
            "47/47 [==============================] - 0s 3ms/step - loss: 0.0758 - accuracy: 0.9827 - val_loss: 0.0321 - val_accuracy: 0.9990\n",
            "Epoch 31/40\n",
            "24/47 [==============>...............] - ETA: 0s - loss: 0.0744 - accuracy: 0.9816\n",
            "Epoch 00031: val_accuracy did not improve from 1.00000\n",
            "47/47 [==============================] - 0s 3ms/step - loss: 0.0719 - accuracy: 0.9827 - val_loss: 0.0308 - val_accuracy: 0.9992\n",
            "Epoch 32/40\n",
            "30/47 [==================>...........] - ETA: 0s - loss: 0.0714 - accuracy: 0.9829\n",
            "Epoch 00032: val_accuracy did not improve from 1.00000\n",
            "47/47 [==============================] - 0s 3ms/step - loss: 0.0715 - accuracy: 0.9832 - val_loss: 0.0306 - val_accuracy: 0.9967\n",
            "Epoch 33/40\n",
            "30/47 [==================>...........] - ETA: 0s - loss: 0.0654 - accuracy: 0.9855\n",
            "Epoch 00033: val_accuracy did not improve from 1.00000\n",
            "47/47 [==============================] - 0s 2ms/step - loss: 0.0671 - accuracy: 0.9847 - val_loss: 0.0287 - val_accuracy: 0.9987\n",
            "Epoch 34/40\n",
            "27/47 [================>.............] - ETA: 0s - loss: 0.0638 - accuracy: 0.9858\n",
            "Epoch 00034: val_accuracy did not improve from 1.00000\n",
            "47/47 [==============================] - 0s 4ms/step - loss: 0.0644 - accuracy: 0.9866 - val_loss: 0.0283 - val_accuracy: 0.9975\n",
            "Epoch 35/40\n",
            "30/47 [==================>...........] - ETA: 0s - loss: 0.0632 - accuracy: 0.9850\n",
            "Epoch 00035: val_accuracy did not improve from 1.00000\n",
            "47/47 [==============================] - 0s 3ms/step - loss: 0.0647 - accuracy: 0.9857 - val_loss: 0.0270 - val_accuracy: 0.9995\n",
            "Epoch 36/40\n",
            "29/47 [=================>............] - ETA: 0s - loss: 0.0620 - accuracy: 0.9860\n",
            "Epoch 00036: val_accuracy did not improve from 1.00000\n",
            "47/47 [==============================] - 0s 3ms/step - loss: 0.0611 - accuracy: 0.9860 - val_loss: 0.0266 - val_accuracy: 0.9967\n",
            "Epoch 37/40\n",
            "22/47 [=============>................] - ETA: 0s - loss: 0.0635 - accuracy: 0.9830\n",
            "Epoch 00037: val_accuracy did not improve from 1.00000\n",
            "47/47 [==============================] - 0s 3ms/step - loss: 0.0619 - accuracy: 0.9851 - val_loss: 0.0258 - val_accuracy: 0.9983\n",
            "Epoch 38/40\n",
            "26/47 [===============>..............] - ETA: 0s - loss: 0.0596 - accuracy: 0.9856\n",
            "Epoch 00038: val_accuracy did not improve from 1.00000\n",
            "47/47 [==============================] - 0s 3ms/step - loss: 0.0601 - accuracy: 0.9850 - val_loss: 0.0247 - val_accuracy: 0.9995\n",
            "Epoch 39/40\n",
            "28/47 [================>.............] - ETA: 0s - loss: 0.0606 - accuracy: 0.9848\n",
            "Epoch 00039: val_accuracy did not improve from 1.00000\n",
            "47/47 [==============================] - 0s 3ms/step - loss: 0.0600 - accuracy: 0.9856 - val_loss: 0.0245 - val_accuracy: 0.9987\n",
            "Epoch 40/40\n",
            "25/47 [==============>...............] - ETA: 0s - loss: 0.0602 - accuracy: 0.9862\n",
            "Epoch 00040: val_accuracy did not improve from 1.00000\n",
            "47/47 [==============================] - 0s 3ms/step - loss: 0.0593 - accuracy: 0.9862 - val_loss: 0.0241 - val_accuracy: 0.9983\n"
          ]
        }
      ]
    },
    {
      "cell_type": "markdown",
      "metadata": {
        "id": "SbAfGWIY5Ipv"
      },
      "source": [
        "# 평가"
      ]
    },
    {
      "cell_type": "code",
      "metadata": {
        "colab": {
          "base_uri": "https://localhost:8080/"
        },
        "id": "5PuKXr82ypZp",
        "outputId": "586a5b73-b02c-41d4-b3bc-b14f917262fe"
      },
      "source": [
        "# 훈련된 이미지 분류기는 이 데이터셋에서 거의 99.9%의 정확도를 달성\n",
        "loss, accuracy = model.evaluate(x_test,  y_test, verbose=2)\n",
        "print(\"Loss: \", loss)\n",
        "print(\"Accuracy: \", accuracy)"
      ],
      "execution_count": 22,
      "outputs": [
        {
          "output_type": "stream",
          "name": "stdout",
          "text": [
            "125/125 - 0s - loss: 0.0246 - accuracy: 0.9977 - 293ms/epoch - 2ms/step\n",
            "Loss:  0.02456417866051197\n",
            "Accuracy:  0.9977499842643738\n"
          ]
        }
      ]
    },
    {
      "cell_type": "code",
      "metadata": {
        "id": "sJD6n-_-UJ8G",
        "colab": {
          "base_uri": "https://localhost:8080/"
        },
        "outputId": "b74e9f54-d5a1-43b7-a3ff-a7b6035f016e"
      },
      "source": [
        "# 학습간 저장된 데이터 확인  \n",
        "history_dict = history.history\n",
        "history_dict.keys()"
      ],
      "execution_count": 23,
      "outputs": [
        {
          "output_type": "execute_result",
          "data": {
            "text/plain": [
              "dict_keys(['loss', 'accuracy', 'val_loss', 'val_accuracy'])"
            ]
          },
          "metadata": {},
          "execution_count": 23
        }
      ]
    },
    {
      "cell_type": "code",
      "metadata": {
        "id": "2SEMeQ5YXs8z",
        "colab": {
          "base_uri": "https://localhost:8080/",
          "height": 295
        },
        "outputId": "4bbe005a-28c8-436a-de82-bcc56d569264"
      },
      "source": [
        "# 손실과 정확도 도식 \n",
        "acc = history_dict['accuracy']\n",
        "val_acc = history_dict['val_accuracy']\n",
        "loss = history_dict['loss']\n",
        "val_loss = history_dict['val_loss']\n",
        "\n",
        "epochs = range(1, len(acc) + 1)\n",
        "\n",
        "# \"bo\" is for \"blue dot\"\n",
        "plt.plot(epochs, loss, 'bo', label='Training loss')\n",
        "# b is for \"solid blue line\"\n",
        "plt.plot(epochs, val_loss, 'b', label='Validation loss')\n",
        "plt.title('Training and validation loss')\n",
        "plt.xlabel('Epochs')\n",
        "plt.ylabel('Loss')\n",
        "plt.legend()\n",
        "\n",
        "plt.show()"
      ],
      "execution_count": 24,
      "outputs": [
        {
          "output_type": "display_data",
          "data": {
            "image/png": "[encoded data removed]",
            "text/plain": [
              "<Figure size 432x288 with 1 Axes>"
            ]
          },
          "metadata": {
            "needs_background": "light"
          }
        }
      ]
    },
    {
      "cell_type": "code",
      "metadata": {
        "id": "Z3PJemLPXwz_",
        "colab": {
          "base_uri": "https://localhost:8080/",
          "height": 295
        },
        "outputId": "ca5e2e21-1eb8-4469-b817-2347593dc89f"
      },
      "source": [
        "plt.plot(epochs, acc, 'bo', label='Training acc')\n",
        "plt.plot(epochs, val_acc, 'b', label='Validation acc')\n",
        "plt.title('Training and validation accuracy')\n",
        "plt.xlabel('Epochs')\n",
        "plt.ylabel('Accuracy')\n",
        "plt.legend(loc='lower right')\n",
        "\n",
        "plt.show()"
      ],
      "execution_count": 25,
      "outputs": [
        {
          "output_type": "display_data",
          "data": {
            "image/png": "[encoded data removed]",
            "text/plain": [
              "<Figure size 432x288 with 1 Axes>"
            ]
          },
          "metadata": {
            "needs_background": "light"
          }
        }
      ]
    },
    {
      "cell_type": "markdown",
      "metadata": {
        "id": "VcbE0p6lAG9g"
      },
      "source": [
        "# 배포 "
      ]
    },
    {
      "cell_type": "code",
      "metadata": {
        "id": "Sn6rsDB2e3Yn"
      },
      "source": [
        "new_x = [-1, 0.3, 1.1, 1.2, 2]"
      ],
      "execution_count": 26,
      "outputs": []
    },
    {
      "cell_type": "code",
      "metadata": {
        "colab": {
          "base_uri": "https://localhost:8080/"
        },
        "id": "no4neEOe_33-",
        "outputId": "97e1940c-7c61-411d-e9a3-3d5821115d03"
      },
      "source": [
        "# 저장된 모델 호출 \n",
        "model.load_weights('model.hdf5')\n",
        "\n",
        "y_pred = model.predict( new_x)\n",
        "print(np.round(y_pred).astype(int))"
      ],
      "execution_count": 27,
      "outputs": [
        {
          "output_type": "stream",
          "name": "stdout",
          "text": [
            "[[0]\n",
            " [0]\n",
            " [0]\n",
            " [1]\n",
            " [1]]\n"
          ]
        }
      ]
    },
    {
      "cell_type": "code",
      "metadata": {
        "id": "Q9_E4GzCrZPN"
      },
      "source": [
        ""
      ],
      "execution_count": null,
      "outputs": []
    }
  ]
}